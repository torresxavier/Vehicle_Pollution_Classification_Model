{
 "cells": [
  {
   "cell_type": "markdown",
   "metadata": {},
   "source": [
    "# Classification algorithms applied to vehicle environmental pollution\n",
    "*By: Xavier Torres* "
   ]
  },
  {
   "cell_type": "markdown",
   "metadata": {},
   "source": [
    "We have a dataset containing information regarding the **taxi fleet** of a highly populated city in Spain, with more than 15.000 vehicles and their license to operate in the city. Each license may have a single vehicle assigned. \n",
    "\n",
    "In the dataset you can find historical data of the taxi fleet, indicating, for each vehicle, its registration, brand, model, fuel, power, number of seats, etc.\n",
    "\n",
    "Our aim is to analyze the available datset doing an Exploratory Data Analysis, and after that, **build an algorithm to classify environmentaly each vehicle**. To simplify, features of the model will be based on the car registration Year and fuel type.\n",
    "\n",
    "We will face the work following the next tasks: \n",
    "\n",
    "1. [Data upload](#section1)\n",
    "1. [EDA (Exploratory Data Analysis), data cleaning and feature engineering](#section2)\n",
    "1. [Classification models](#section3)\n",
    "1. [Model Selection](#section4)\n",
    "\n",
    "---\n",
    "\n",
    " ![image_not_available](https://raw.githubusercontent.com/torresxavier/Resources/master/pollution2.jpg)"
   ]
  },
  {
   "cell_type": "markdown",
   "metadata": {},
   "source": [
    "## <a name=\"section1\"> 1. Data upload </a>"
   ]
  },
  {
   "cell_type": "code",
   "execution_count": 2,
   "metadata": {},
   "outputs": [],
   "source": [
    "#importinf needed libraries\n",
    "\n",
    "import pandas as pd\n",
    "import matplotlib.pyplot as plt\n",
    "import numpy as np\n",
    "import seaborn as sns\n",
    "import datetime\n",
    "\n",
    "from sklearn.model_selection import train_test_split\n",
    "from sklearn.svm import SVC\n",
    "#from sklearn.svm import LinearSVC\n",
    "from sklearn.tree import DecisionTreeClassifier\n",
    "from sklearn.ensemble import RandomForestClassifier\n",
    "from sklearn.naive_bayes import CategoricalNB\n",
    "\n",
    "from sklearn.model_selection import cross_val_score\n",
    "from sklearn import metrics\n",
    "from sklearn.metrics import confusion_matrix\n",
    "from sklearn.metrics import accuracy_score, precision_score, recall_score, f1_score\n",
    "from sklearn.metrics import precision_recall_fscore_support as score\n",
    "\n",
    "import warnings\n",
    "warnings.filterwarnings(\"ignore\")"
   ]
  },
  {
   "cell_type": "code",
   "execution_count": 3,
   "metadata": {},
   "outputs": [],
   "source": [
    "df = pd.read_csv(\"taxiFlota.csv\", sep = \";\")"
   ]
  },
  {
   "cell_type": "code",
   "execution_count": 4,
   "metadata": {},
   "outputs": [
    {
     "data": {
      "text/html": [
       "<div>\n",
       "<style scoped>\n",
       "    .dataframe tbody tr th:only-of-type {\n",
       "        vertical-align: middle;\n",
       "    }\n",
       "\n",
       "    .dataframe tbody tr th {\n",
       "        vertical-align: top;\n",
       "    }\n",
       "\n",
       "    .dataframe thead th {\n",
       "        text-align: right;\n",
       "    }\n",
       "</style>\n",
       "<table border=\"1\" class=\"dataframe\">\n",
       "  <thead>\n",
       "    <tr style=\"text-align: right;\">\n",
       "      <th></th>\n",
       "      <th>Codigo</th>\n",
       "      <th>Matricula</th>\n",
       "      <th>Fecha Matriculacion</th>\n",
       "      <th>Marca</th>\n",
       "      <th>Modelo</th>\n",
       "      <th>Tipo</th>\n",
       "      <th>Variante</th>\n",
       "      <th>Clasificacion medioambiental</th>\n",
       "      <th>Combustible</th>\n",
       "      <th>Cilindrada</th>\n",
       "      <th>Potencia</th>\n",
       "      <th>Numero de Plazas</th>\n",
       "      <th>Fecha inicio de prestacion del servicio de taxi</th>\n",
       "      <th>Eurotaxi</th>\n",
       "      <th>Regimen Especial de Eurotaxi</th>\n",
       "      <th>Fecha inicio Regimen Especial Eurotaxi</th>\n",
       "      <th>Fecha fin Regimen Especial Eurotaxi</th>\n",
       "      <th>Fecha</th>\n",
       "    </tr>\n",
       "  </thead>\n",
       "  <tbody>\n",
       "    <tr>\n",
       "      <th>0</th>\n",
       "      <td>1198109</td>\n",
       "      <td>0800GZC</td>\n",
       "      <td>18/10/2010</td>\n",
       "      <td>CHEVROLET</td>\n",
       "      <td>EPICA</td>\n",
       "      <td>KLAL</td>\n",
       "      <td>LV3/134</td>\n",
       "      <td>B</td>\n",
       "      <td>DIESEL</td>\n",
       "      <td>1991</td>\n",
       "      <td>110.0</td>\n",
       "      <td>5</td>\n",
       "      <td>25/10/2010</td>\n",
       "      <td>NO</td>\n",
       "      <td>NO</td>\n",
       "      <td>NaN</td>\n",
       "      <td>NaN</td>\n",
       "      <td>30/07/2018</td>\n",
       "    </tr>\n",
       "    <tr>\n",
       "      <th>1</th>\n",
       "      <td>1196804</td>\n",
       "      <td>7686GYS</td>\n",
       "      <td>23/09/2010</td>\n",
       "      <td>CHEVROLET</td>\n",
       "      <td>EPICA</td>\n",
       "      <td>KLAL</td>\n",
       "      <td>LV1/111</td>\n",
       "      <td>C</td>\n",
       "      <td>GASOLINA TRANSFORMADO GLP</td>\n",
       "      <td>1993</td>\n",
       "      <td>105.0</td>\n",
       "      <td>5</td>\n",
       "      <td>04/10/2010</td>\n",
       "      <td>NO</td>\n",
       "      <td>NO</td>\n",
       "      <td>NaN</td>\n",
       "      <td>NaN</td>\n",
       "      <td>30/07/2018</td>\n",
       "    </tr>\n",
       "    <tr>\n",
       "      <th>2</th>\n",
       "      <td>1182347</td>\n",
       "      <td>5440GTD</td>\n",
       "      <td>02/02/2010</td>\n",
       "      <td>CHEVROLET</td>\n",
       "      <td>EPICA</td>\n",
       "      <td>KLAL</td>\n",
       "      <td>LV3/134</td>\n",
       "      <td>B</td>\n",
       "      <td>DIESEL</td>\n",
       "      <td>1991</td>\n",
       "      <td>110.0</td>\n",
       "      <td>5</td>\n",
       "      <td>04/02/2010</td>\n",
       "      <td>NO</td>\n",
       "      <td>NO</td>\n",
       "      <td>NaN</td>\n",
       "      <td>NaN</td>\n",
       "      <td>30/07/2018</td>\n",
       "    </tr>\n",
       "    <tr>\n",
       "      <th>3</th>\n",
       "      <td>1189908</td>\n",
       "      <td>3259GWN</td>\n",
       "      <td>21/05/2010</td>\n",
       "      <td>CHEVROLET</td>\n",
       "      <td>EPICA</td>\n",
       "      <td>KLAL</td>\n",
       "      <td>LV3/134</td>\n",
       "      <td>B</td>\n",
       "      <td>DIESEL</td>\n",
       "      <td>1991</td>\n",
       "      <td>110.0</td>\n",
       "      <td>5</td>\n",
       "      <td>24/05/2010</td>\n",
       "      <td>NO</td>\n",
       "      <td>NO</td>\n",
       "      <td>NaN</td>\n",
       "      <td>NaN</td>\n",
       "      <td>30/07/2018</td>\n",
       "    </tr>\n",
       "    <tr>\n",
       "      <th>4</th>\n",
       "      <td>1180158</td>\n",
       "      <td>9107GSN</td>\n",
       "      <td>29/12/2009</td>\n",
       "      <td>CHEVROLET</td>\n",
       "      <td>EPICA</td>\n",
       "      <td>KLAL</td>\n",
       "      <td>LV3/134</td>\n",
       "      <td>B</td>\n",
       "      <td>DIESEL</td>\n",
       "      <td>1991</td>\n",
       "      <td>110.0</td>\n",
       "      <td>5</td>\n",
       "      <td>04/01/2010</td>\n",
       "      <td>NO</td>\n",
       "      <td>NO</td>\n",
       "      <td>NaN</td>\n",
       "      <td>NaN</td>\n",
       "      <td>30/07/2018</td>\n",
       "    </tr>\n",
       "  </tbody>\n",
       "</table>\n",
       "</div>"
      ],
      "text/plain": [
       "    Codigo Matricula Fecha Matriculacion      Marca Modelo  Tipo Variante  \\\n",
       "0  1198109   0800GZC          18/10/2010  CHEVROLET  EPICA  KLAL  LV3/134   \n",
       "1  1196804   7686GYS          23/09/2010  CHEVROLET  EPICA  KLAL  LV1/111   \n",
       "2  1182347   5440GTD          02/02/2010  CHEVROLET  EPICA  KLAL  LV3/134   \n",
       "3  1189908   3259GWN          21/05/2010  CHEVROLET  EPICA  KLAL  LV3/134   \n",
       "4  1180158   9107GSN          29/12/2009  CHEVROLET  EPICA  KLAL  LV3/134   \n",
       "\n",
       "  Clasificacion medioambiental                Combustible  Cilindrada  \\\n",
       "0                            B                     DIESEL        1991   \n",
       "1                            C  GASOLINA TRANSFORMADO GLP        1993   \n",
       "2                            B                     DIESEL        1991   \n",
       "3                            B                     DIESEL        1991   \n",
       "4                            B                     DIESEL        1991   \n",
       "\n",
       "   Potencia Numero de Plazas Fecha inicio de prestacion del servicio de taxi  \\\n",
       "0     110.0                5                                      25/10/2010   \n",
       "1     105.0                5                                      04/10/2010   \n",
       "2     110.0                5                                      04/02/2010   \n",
       "3     110.0                5                                      24/05/2010   \n",
       "4     110.0                5                                      04/01/2010   \n",
       "\n",
       "  Eurotaxi Regimen Especial de Eurotaxi  \\\n",
       "0       NO                           NO   \n",
       "1       NO                           NO   \n",
       "2       NO                           NO   \n",
       "3       NO                           NO   \n",
       "4       NO                           NO   \n",
       "\n",
       "  Fecha inicio Regimen Especial Eurotaxi Fecha fin Regimen Especial Eurotaxi  \\\n",
       "0                                    NaN                                 NaN   \n",
       "1                                    NaN                                 NaN   \n",
       "2                                    NaN                                 NaN   \n",
       "3                                    NaN                                 NaN   \n",
       "4                                    NaN                                 NaN   \n",
       "\n",
       "        Fecha  \n",
       "0  30/07/2018  \n",
       "1  30/07/2018  \n",
       "2  30/07/2018  \n",
       "3  30/07/2018  \n",
       "4  30/07/2018  "
      ]
     },
     "execution_count": 4,
     "metadata": {},
     "output_type": "execute_result"
    }
   ],
   "source": [
    "df.head()"
   ]
  },
  {
   "cell_type": "markdown",
   "metadata": {},
   "source": [
    "## <a name=\"section2\"> 2. EDA (Exploratory Data Analysis), data cleaning and feature engineering </a>"
   ]
  },
  {
   "cell_type": "markdown",
   "metadata": {},
   "source": [
    "Checking number of rows, columns, and other info:"
   ]
  },
  {
   "cell_type": "code",
   "execution_count": 5,
   "metadata": {},
   "outputs": [
    {
     "data": {
      "text/plain": [
       "(46918, 18)"
      ]
     },
     "execution_count": 5,
     "metadata": {},
     "output_type": "execute_result"
    }
   ],
   "source": [
    "df.shape"
   ]
  },
  {
   "cell_type": "code",
   "execution_count": 6,
   "metadata": {},
   "outputs": [
    {
     "name": "stdout",
     "output_type": "stream",
     "text": [
      "<class 'pandas.core.frame.DataFrame'>\n",
      "RangeIndex: 46918 entries, 0 to 46917\n",
      "Data columns (total 18 columns):\n",
      "Codigo                                             46918 non-null int64\n",
      "Matricula                                          46918 non-null object\n",
      "Fecha Matriculacion                                46918 non-null object\n",
      "Marca                                              46918 non-null object\n",
      "Modelo                                             46918 non-null object\n",
      "Tipo                                               46918 non-null object\n",
      "Variante                                           46918 non-null object\n",
      "Clasificacion medioambiental                       46918 non-null object\n",
      "Combustible                                        46918 non-null object\n",
      "Cilindrada                                         46918 non-null int64\n",
      "Potencia                                           46913 non-null float64\n",
      "Numero de Plazas                                   46918 non-null object\n",
      "Fecha inicio de prestacion del servicio de taxi    46918 non-null object\n",
      "Eurotaxi                                           46918 non-null object\n",
      "Regimen Especial de Eurotaxi                       46918 non-null object\n",
      "Fecha inicio Regimen Especial Eurotaxi             1541 non-null object\n",
      "Fecha fin Regimen Especial Eurotaxi                1541 non-null object\n",
      "Fecha                                              46918 non-null object\n",
      "dtypes: float64(1), int64(2), object(15)\n",
      "memory usage: 6.4+ MB\n"
     ]
    }
   ],
   "source": [
    "df.info()"
   ]
  },
  {
   "cell_type": "code",
   "execution_count": 7,
   "metadata": {},
   "outputs": [
    {
     "data": {
      "text/html": [
       "<div>\n",
       "<style scoped>\n",
       "    .dataframe tbody tr th:only-of-type {\n",
       "        vertical-align: middle;\n",
       "    }\n",
       "\n",
       "    .dataframe tbody tr th {\n",
       "        vertical-align: top;\n",
       "    }\n",
       "\n",
       "    .dataframe thead th {\n",
       "        text-align: right;\n",
       "    }\n",
       "</style>\n",
       "<table border=\"1\" class=\"dataframe\">\n",
       "  <thead>\n",
       "    <tr style=\"text-align: right;\">\n",
       "      <th></th>\n",
       "      <th>Codigo</th>\n",
       "      <th>Fecha Matriculacion</th>\n",
       "      <th>Marca</th>\n",
       "      <th>Modelo</th>\n",
       "      <th>Tipo</th>\n",
       "      <th>Variante</th>\n",
       "      <th>Clasificacion medioambiental</th>\n",
       "      <th>Combustible</th>\n",
       "      <th>Cilindrada</th>\n",
       "      <th>Potencia</th>\n",
       "      <th>Numero de Plazas</th>\n",
       "      <th>Fecha inicio de prestacion del servicio de taxi</th>\n",
       "      <th>Eurotaxi</th>\n",
       "      <th>Regimen Especial de Eurotaxi</th>\n",
       "      <th>Fecha inicio Regimen Especial Eurotaxi</th>\n",
       "      <th>Fecha fin Regimen Especial Eurotaxi</th>\n",
       "      <th>Fecha</th>\n",
       "    </tr>\n",
       "    <tr>\n",
       "      <th>Matricula</th>\n",
       "      <th></th>\n",
       "      <th></th>\n",
       "      <th></th>\n",
       "      <th></th>\n",
       "      <th></th>\n",
       "      <th></th>\n",
       "      <th></th>\n",
       "      <th></th>\n",
       "      <th></th>\n",
       "      <th></th>\n",
       "      <th></th>\n",
       "      <th></th>\n",
       "      <th></th>\n",
       "      <th></th>\n",
       "      <th></th>\n",
       "      <th></th>\n",
       "      <th></th>\n",
       "    </tr>\n",
       "  </thead>\n",
       "  <tbody>\n",
       "    <tr>\n",
       "      <th>0000HDY</th>\n",
       "      <td>3</td>\n",
       "      <td>3</td>\n",
       "      <td>3</td>\n",
       "      <td>3</td>\n",
       "      <td>3</td>\n",
       "      <td>3</td>\n",
       "      <td>3</td>\n",
       "      <td>3</td>\n",
       "      <td>3</td>\n",
       "      <td>3</td>\n",
       "      <td>3</td>\n",
       "      <td>3</td>\n",
       "      <td>3</td>\n",
       "      <td>3</td>\n",
       "      <td>0</td>\n",
       "      <td>0</td>\n",
       "      <td>3</td>\n",
       "    </tr>\n",
       "    <tr>\n",
       "      <th>0000HTS</th>\n",
       "      <td>3</td>\n",
       "      <td>3</td>\n",
       "      <td>3</td>\n",
       "      <td>3</td>\n",
       "      <td>3</td>\n",
       "      <td>3</td>\n",
       "      <td>3</td>\n",
       "      <td>3</td>\n",
       "      <td>3</td>\n",
       "      <td>3</td>\n",
       "      <td>3</td>\n",
       "      <td>3</td>\n",
       "      <td>3</td>\n",
       "      <td>3</td>\n",
       "      <td>0</td>\n",
       "      <td>0</td>\n",
       "      <td>3</td>\n",
       "    </tr>\n",
       "    <tr>\n",
       "      <th>0000JYG</th>\n",
       "      <td>3</td>\n",
       "      <td>3</td>\n",
       "      <td>3</td>\n",
       "      <td>3</td>\n",
       "      <td>3</td>\n",
       "      <td>3</td>\n",
       "      <td>3</td>\n",
       "      <td>3</td>\n",
       "      <td>3</td>\n",
       "      <td>3</td>\n",
       "      <td>3</td>\n",
       "      <td>3</td>\n",
       "      <td>3</td>\n",
       "      <td>3</td>\n",
       "      <td>0</td>\n",
       "      <td>0</td>\n",
       "      <td>3</td>\n",
       "    </tr>\n",
       "    <tr>\n",
       "      <th>0001HFW</th>\n",
       "      <td>3</td>\n",
       "      <td>3</td>\n",
       "      <td>3</td>\n",
       "      <td>3</td>\n",
       "      <td>3</td>\n",
       "      <td>3</td>\n",
       "      <td>3</td>\n",
       "      <td>3</td>\n",
       "      <td>3</td>\n",
       "      <td>3</td>\n",
       "      <td>3</td>\n",
       "      <td>3</td>\n",
       "      <td>3</td>\n",
       "      <td>3</td>\n",
       "      <td>0</td>\n",
       "      <td>0</td>\n",
       "      <td>3</td>\n",
       "    </tr>\n",
       "    <tr>\n",
       "      <th>0002JVL</th>\n",
       "      <td>3</td>\n",
       "      <td>3</td>\n",
       "      <td>3</td>\n",
       "      <td>3</td>\n",
       "      <td>3</td>\n",
       "      <td>3</td>\n",
       "      <td>3</td>\n",
       "      <td>3</td>\n",
       "      <td>3</td>\n",
       "      <td>3</td>\n",
       "      <td>3</td>\n",
       "      <td>3</td>\n",
       "      <td>3</td>\n",
       "      <td>3</td>\n",
       "      <td>0</td>\n",
       "      <td>0</td>\n",
       "      <td>3</td>\n",
       "    </tr>\n",
       "    <tr>\n",
       "      <th>...</th>\n",
       "      <td>...</td>\n",
       "      <td>...</td>\n",
       "      <td>...</td>\n",
       "      <td>...</td>\n",
       "      <td>...</td>\n",
       "      <td>...</td>\n",
       "      <td>...</td>\n",
       "      <td>...</td>\n",
       "      <td>...</td>\n",
       "      <td>...</td>\n",
       "      <td>...</td>\n",
       "      <td>...</td>\n",
       "      <td>...</td>\n",
       "      <td>...</td>\n",
       "      <td>...</td>\n",
       "      <td>...</td>\n",
       "      <td>...</td>\n",
       "    </tr>\n",
       "    <tr>\n",
       "      <th>9998GSC</th>\n",
       "      <td>3</td>\n",
       "      <td>3</td>\n",
       "      <td>3</td>\n",
       "      <td>3</td>\n",
       "      <td>3</td>\n",
       "      <td>3</td>\n",
       "      <td>3</td>\n",
       "      <td>3</td>\n",
       "      <td>3</td>\n",
       "      <td>3</td>\n",
       "      <td>3</td>\n",
       "      <td>3</td>\n",
       "      <td>3</td>\n",
       "      <td>3</td>\n",
       "      <td>0</td>\n",
       "      <td>0</td>\n",
       "      <td>3</td>\n",
       "    </tr>\n",
       "    <tr>\n",
       "      <th>9998HTL</th>\n",
       "      <td>3</td>\n",
       "      <td>3</td>\n",
       "      <td>3</td>\n",
       "      <td>3</td>\n",
       "      <td>3</td>\n",
       "      <td>3</td>\n",
       "      <td>3</td>\n",
       "      <td>3</td>\n",
       "      <td>3</td>\n",
       "      <td>3</td>\n",
       "      <td>3</td>\n",
       "      <td>3</td>\n",
       "      <td>3</td>\n",
       "      <td>3</td>\n",
       "      <td>0</td>\n",
       "      <td>0</td>\n",
       "      <td>3</td>\n",
       "    </tr>\n",
       "    <tr>\n",
       "      <th>9999GZL</th>\n",
       "      <td>3</td>\n",
       "      <td>3</td>\n",
       "      <td>3</td>\n",
       "      <td>3</td>\n",
       "      <td>3</td>\n",
       "      <td>3</td>\n",
       "      <td>3</td>\n",
       "      <td>3</td>\n",
       "      <td>3</td>\n",
       "      <td>3</td>\n",
       "      <td>3</td>\n",
       "      <td>3</td>\n",
       "      <td>3</td>\n",
       "      <td>3</td>\n",
       "      <td>0</td>\n",
       "      <td>0</td>\n",
       "      <td>3</td>\n",
       "    </tr>\n",
       "    <tr>\n",
       "      <th>9999HTZ</th>\n",
       "      <td>3</td>\n",
       "      <td>3</td>\n",
       "      <td>3</td>\n",
       "      <td>3</td>\n",
       "      <td>3</td>\n",
       "      <td>3</td>\n",
       "      <td>3</td>\n",
       "      <td>3</td>\n",
       "      <td>3</td>\n",
       "      <td>3</td>\n",
       "      <td>3</td>\n",
       "      <td>3</td>\n",
       "      <td>3</td>\n",
       "      <td>3</td>\n",
       "      <td>0</td>\n",
       "      <td>0</td>\n",
       "      <td>3</td>\n",
       "    </tr>\n",
       "    <tr>\n",
       "      <th>9999KGW</th>\n",
       "      <td>3</td>\n",
       "      <td>3</td>\n",
       "      <td>3</td>\n",
       "      <td>3</td>\n",
       "      <td>3</td>\n",
       "      <td>3</td>\n",
       "      <td>3</td>\n",
       "      <td>3</td>\n",
       "      <td>3</td>\n",
       "      <td>3</td>\n",
       "      <td>3</td>\n",
       "      <td>3</td>\n",
       "      <td>3</td>\n",
       "      <td>3</td>\n",
       "      <td>0</td>\n",
       "      <td>0</td>\n",
       "      <td>3</td>\n",
       "    </tr>\n",
       "  </tbody>\n",
       "</table>\n",
       "<p>15969 rows × 17 columns</p>\n",
       "</div>"
      ],
      "text/plain": [
       "           Codigo  Fecha Matriculacion  Marca  Modelo  Tipo  Variante  \\\n",
       "Matricula                                                               \n",
       "0000HDY         3                    3      3       3     3         3   \n",
       "0000HTS         3                    3      3       3     3         3   \n",
       "0000JYG         3                    3      3       3     3         3   \n",
       "0001HFW         3                    3      3       3     3         3   \n",
       "0002JVL         3                    3      3       3     3         3   \n",
       "...           ...                  ...    ...     ...   ...       ...   \n",
       "9998GSC         3                    3      3       3     3         3   \n",
       "9998HTL         3                    3      3       3     3         3   \n",
       "9999GZL         3                    3      3       3     3         3   \n",
       "9999HTZ         3                    3      3       3     3         3   \n",
       "9999KGW         3                    3      3       3     3         3   \n",
       "\n",
       "           Clasificacion medioambiental  Combustible  Cilindrada  Potencia  \\\n",
       "Matricula                                                                    \n",
       "0000HDY                               3            3           3         3   \n",
       "0000HTS                               3            3           3         3   \n",
       "0000JYG                               3            3           3         3   \n",
       "0001HFW                               3            3           3         3   \n",
       "0002JVL                               3            3           3         3   \n",
       "...                                 ...          ...         ...       ...   \n",
       "9998GSC                               3            3           3         3   \n",
       "9998HTL                               3            3           3         3   \n",
       "9999GZL                               3            3           3         3   \n",
       "9999HTZ                               3            3           3         3   \n",
       "9999KGW                               3            3           3         3   \n",
       "\n",
       "           Numero de Plazas  Fecha inicio de prestacion del servicio de taxi  \\\n",
       "Matricula                                                                      \n",
       "0000HDY                   3                                                3   \n",
       "0000HTS                   3                                                3   \n",
       "0000JYG                   3                                                3   \n",
       "0001HFW                   3                                                3   \n",
       "0002JVL                   3                                                3   \n",
       "...                     ...                                              ...   \n",
       "9998GSC                   3                                                3   \n",
       "9998HTL                   3                                                3   \n",
       "9999GZL                   3                                                3   \n",
       "9999HTZ                   3                                                3   \n",
       "9999KGW                   3                                                3   \n",
       "\n",
       "           Eurotaxi  Regimen Especial de Eurotaxi  \\\n",
       "Matricula                                           \n",
       "0000HDY           3                             3   \n",
       "0000HTS           3                             3   \n",
       "0000JYG           3                             3   \n",
       "0001HFW           3                             3   \n",
       "0002JVL           3                             3   \n",
       "...             ...                           ...   \n",
       "9998GSC           3                             3   \n",
       "9998HTL           3                             3   \n",
       "9999GZL           3                             3   \n",
       "9999HTZ           3                             3   \n",
       "9999KGW           3                             3   \n",
       "\n",
       "           Fecha inicio Regimen Especial Eurotaxi  \\\n",
       "Matricula                                           \n",
       "0000HDY                                         0   \n",
       "0000HTS                                         0   \n",
       "0000JYG                                         0   \n",
       "0001HFW                                         0   \n",
       "0002JVL                                         0   \n",
       "...                                           ...   \n",
       "9998GSC                                         0   \n",
       "9998HTL                                         0   \n",
       "9999GZL                                         0   \n",
       "9999HTZ                                         0   \n",
       "9999KGW                                         0   \n",
       "\n",
       "           Fecha fin Regimen Especial Eurotaxi  Fecha  \n",
       "Matricula                                              \n",
       "0000HDY                                      0      3  \n",
       "0000HTS                                      0      3  \n",
       "0000JYG                                      0      3  \n",
       "0001HFW                                      0      3  \n",
       "0002JVL                                      0      3  \n",
       "...                                        ...    ...  \n",
       "9998GSC                                      0      3  \n",
       "9998HTL                                      0      3  \n",
       "9999GZL                                      0      3  \n",
       "9999HTZ                                      0      3  \n",
       "9999KGW                                      0      3  \n",
       "\n",
       "[15969 rows x 17 columns]"
      ]
     },
     "execution_count": 7,
     "metadata": {},
     "output_type": "execute_result"
    }
   ],
   "source": [
    "df.groupby(by=\"Matricula\").count()"
   ]
  },
  {
   "cell_type": "markdown",
   "metadata": {},
   "source": [
    "we see that we have 3 rows per each licence plate. Let's check a couple of licence plates to see the information contained."
   ]
  },
  {
   "cell_type": "code",
   "execution_count": 8,
   "metadata": {},
   "outputs": [
    {
     "data": {
      "text/html": [
       "<div>\n",
       "<style scoped>\n",
       "    .dataframe tbody tr th:only-of-type {\n",
       "        vertical-align: middle;\n",
       "    }\n",
       "\n",
       "    .dataframe tbody tr th {\n",
       "        vertical-align: top;\n",
       "    }\n",
       "\n",
       "    .dataframe thead th {\n",
       "        text-align: right;\n",
       "    }\n",
       "</style>\n",
       "<table border=\"1\" class=\"dataframe\">\n",
       "  <thead>\n",
       "    <tr style=\"text-align: right;\">\n",
       "      <th></th>\n",
       "      <th>Codigo</th>\n",
       "      <th>Matricula</th>\n",
       "      <th>Fecha Matriculacion</th>\n",
       "      <th>Marca</th>\n",
       "      <th>Modelo</th>\n",
       "      <th>Tipo</th>\n",
       "      <th>Variante</th>\n",
       "      <th>Clasificacion medioambiental</th>\n",
       "      <th>Combustible</th>\n",
       "      <th>Cilindrada</th>\n",
       "      <th>Potencia</th>\n",
       "      <th>Numero de Plazas</th>\n",
       "      <th>Fecha inicio de prestacion del servicio de taxi</th>\n",
       "      <th>Eurotaxi</th>\n",
       "      <th>Regimen Especial de Eurotaxi</th>\n",
       "      <th>Fecha inicio Regimen Especial Eurotaxi</th>\n",
       "      <th>Fecha fin Regimen Especial Eurotaxi</th>\n",
       "      <th>Fecha</th>\n",
       "    </tr>\n",
       "  </thead>\n",
       "  <tbody>\n",
       "    <tr>\n",
       "      <th>10625</th>\n",
       "      <td>1229223</td>\n",
       "      <td>0001HFW</td>\n",
       "      <td>04/08/2011</td>\n",
       "      <td>SKODA</td>\n",
       "      <td>OCTAVIA</td>\n",
       "      <td>1Z</td>\n",
       "      <td>AACAYCX01/NFM5***</td>\n",
       "      <td>B</td>\n",
       "      <td>DIESEL</td>\n",
       "      <td>1598</td>\n",
       "      <td>77.0</td>\n",
       "      <td>5</td>\n",
       "      <td>05/08/2011</td>\n",
       "      <td>NO</td>\n",
       "      <td>NO</td>\n",
       "      <td>NaN</td>\n",
       "      <td>NaN</td>\n",
       "      <td>30/07/2018</td>\n",
       "    </tr>\n",
       "    <tr>\n",
       "      <th>26222</th>\n",
       "      <td>1229223</td>\n",
       "      <td>0001HFW</td>\n",
       "      <td>04/08/2011</td>\n",
       "      <td>SKODA</td>\n",
       "      <td>OCTAVIA</td>\n",
       "      <td>1Z</td>\n",
       "      <td>AACAYCX01/NFM5***</td>\n",
       "      <td>B</td>\n",
       "      <td>DIESEL</td>\n",
       "      <td>1598</td>\n",
       "      <td>77.0</td>\n",
       "      <td>5</td>\n",
       "      <td>05/08/2011</td>\n",
       "      <td>NO</td>\n",
       "      <td>NO</td>\n",
       "      <td>NaN</td>\n",
       "      <td>NaN</td>\n",
       "      <td>30/08/2018</td>\n",
       "    </tr>\n",
       "    <tr>\n",
       "      <th>41836</th>\n",
       "      <td>1229223</td>\n",
       "      <td>0001HFW</td>\n",
       "      <td>04/08/2011</td>\n",
       "      <td>SKODA</td>\n",
       "      <td>OCTAVIA</td>\n",
       "      <td>1Z</td>\n",
       "      <td>AACAYCX01/NFM5***</td>\n",
       "      <td>B</td>\n",
       "      <td>DIESEL</td>\n",
       "      <td>1598</td>\n",
       "      <td>77.0</td>\n",
       "      <td>5</td>\n",
       "      <td>05/08/2011</td>\n",
       "      <td>NO</td>\n",
       "      <td>NO</td>\n",
       "      <td>NaN</td>\n",
       "      <td>NaN</td>\n",
       "      <td>29/09/2018</td>\n",
       "    </tr>\n",
       "    <tr>\n",
       "      <th>3295</th>\n",
       "      <td>1307914</td>\n",
       "      <td>9998HTL</td>\n",
       "      <td>07/11/2013</td>\n",
       "      <td>PEUGEOT</td>\n",
       "      <td>5008</td>\n",
       "      <td>0</td>\n",
       "      <td>0ARHE*</td>\n",
       "      <td>B</td>\n",
       "      <td>DIESEL</td>\n",
       "      <td>1997</td>\n",
       "      <td>110.0</td>\n",
       "      <td>5</td>\n",
       "      <td>11/11/2013</td>\n",
       "      <td>NO</td>\n",
       "      <td>NO</td>\n",
       "      <td>NaN</td>\n",
       "      <td>NaN</td>\n",
       "      <td>30/07/2018</td>\n",
       "    </tr>\n",
       "    <tr>\n",
       "      <th>18991</th>\n",
       "      <td>1307914</td>\n",
       "      <td>9998HTL</td>\n",
       "      <td>07/11/2013</td>\n",
       "      <td>PEUGEOT</td>\n",
       "      <td>5008</td>\n",
       "      <td>0</td>\n",
       "      <td>0ARHE*</td>\n",
       "      <td>B</td>\n",
       "      <td>DIESEL</td>\n",
       "      <td>1997</td>\n",
       "      <td>110.0</td>\n",
       "      <td>5</td>\n",
       "      <td>11/11/2013</td>\n",
       "      <td>NO</td>\n",
       "      <td>NO</td>\n",
       "      <td>NaN</td>\n",
       "      <td>NaN</td>\n",
       "      <td>30/08/2018</td>\n",
       "    </tr>\n",
       "    <tr>\n",
       "      <th>34719</th>\n",
       "      <td>1307914</td>\n",
       "      <td>9998HTL</td>\n",
       "      <td>07/11/2013</td>\n",
       "      <td>PEUGEOT</td>\n",
       "      <td>5008</td>\n",
       "      <td>0</td>\n",
       "      <td>0ARHE*</td>\n",
       "      <td>B</td>\n",
       "      <td>DIESEL</td>\n",
       "      <td>1997</td>\n",
       "      <td>110.0</td>\n",
       "      <td>5</td>\n",
       "      <td>11/11/2013</td>\n",
       "      <td>NO</td>\n",
       "      <td>NO</td>\n",
       "      <td>NaN</td>\n",
       "      <td>NaN</td>\n",
       "      <td>29/09/2018</td>\n",
       "    </tr>\n",
       "  </tbody>\n",
       "</table>\n",
       "</div>"
      ],
      "text/plain": [
       "        Codigo Matricula Fecha Matriculacion    Marca   Modelo Tipo  \\\n",
       "10625  1229223   0001HFW          04/08/2011    SKODA  OCTAVIA   1Z   \n",
       "26222  1229223   0001HFW          04/08/2011    SKODA  OCTAVIA   1Z   \n",
       "41836  1229223   0001HFW          04/08/2011    SKODA  OCTAVIA   1Z   \n",
       "3295   1307914   9998HTL          07/11/2013  PEUGEOT     5008    0   \n",
       "18991  1307914   9998HTL          07/11/2013  PEUGEOT     5008    0   \n",
       "34719  1307914   9998HTL          07/11/2013  PEUGEOT     5008    0   \n",
       "\n",
       "                Variante Clasificacion medioambiental Combustible  Cilindrada  \\\n",
       "10625  AACAYCX01/NFM5***                            B      DIESEL        1598   \n",
       "26222  AACAYCX01/NFM5***                            B      DIESEL        1598   \n",
       "41836  AACAYCX01/NFM5***                            B      DIESEL        1598   \n",
       "3295              0ARHE*                            B      DIESEL        1997   \n",
       "18991             0ARHE*                            B      DIESEL        1997   \n",
       "34719             0ARHE*                            B      DIESEL        1997   \n",
       "\n",
       "       Potencia Numero de Plazas  \\\n",
       "10625      77.0                5   \n",
       "26222      77.0                5   \n",
       "41836      77.0                5   \n",
       "3295      110.0                5   \n",
       "18991     110.0                5   \n",
       "34719     110.0                5   \n",
       "\n",
       "      Fecha inicio de prestacion del servicio de taxi Eurotaxi  \\\n",
       "10625                                      05/08/2011       NO   \n",
       "26222                                      05/08/2011       NO   \n",
       "41836                                      05/08/2011       NO   \n",
       "3295                                       11/11/2013       NO   \n",
       "18991                                      11/11/2013       NO   \n",
       "34719                                      11/11/2013       NO   \n",
       "\n",
       "      Regimen Especial de Eurotaxi Fecha inicio Regimen Especial Eurotaxi  \\\n",
       "10625                           NO                                    NaN   \n",
       "26222                           NO                                    NaN   \n",
       "41836                           NO                                    NaN   \n",
       "3295                            NO                                    NaN   \n",
       "18991                           NO                                    NaN   \n",
       "34719                           NO                                    NaN   \n",
       "\n",
       "      Fecha fin Regimen Especial Eurotaxi       Fecha  \n",
       "10625                                 NaN  30/07/2018  \n",
       "26222                                 NaN  30/08/2018  \n",
       "41836                                 NaN  29/09/2018  \n",
       "3295                                  NaN  30/07/2018  \n",
       "18991                                 NaN  30/08/2018  \n",
       "34719                                 NaN  29/09/2018  "
      ]
     },
     "execution_count": 8,
     "metadata": {},
     "output_type": "execute_result"
    }
   ],
   "source": [
    "df[(df['Matricula'] == '0001HFW') | (df['Matricula'] == '9998HTL')].sort_values(by='Matricula')"
   ]
  },
  {
   "cell_type": "markdown",
   "metadata": {},
   "source": [
    "We note that all features have the same values except the last column that indicates the date this information was extracted (July, August and September 2018). So we are going to create a new dataset that contains only one of these three months."
   ]
  },
  {
   "cell_type": "markdown",
   "metadata": {},
   "source": [
    "First of all we are going to assign DateTime types to all columns containing dates."
   ]
  },
  {
   "cell_type": "code",
   "execution_count": 9,
   "metadata": {},
   "outputs": [],
   "source": [
    "df['Fecha Matriculacion'] =  pd.to_datetime(df['Fecha Matriculacion'])\n",
    "df['Fecha inicio de prestacion del servicio de taxi'] =  pd.to_datetime(df['Fecha inicio de prestacion del servicio de taxi'])\n",
    "df['Fecha inicio Regimen Especial Eurotaxi'] =  pd.to_datetime(df['Fecha inicio Regimen Especial Eurotaxi'])\n",
    "df['Fecha fin Regimen Especial Eurotaxi'] =  pd.to_datetime(df['Fecha fin Regimen Especial Eurotaxi'])\n",
    "df['Fecha'] =  pd.to_datetime(df['Fecha'])"
   ]
  },
  {
   "cell_type": "code",
   "execution_count": 10,
   "metadata": {},
   "outputs": [
    {
     "data": {
      "text/html": [
       "<div>\n",
       "<style scoped>\n",
       "    .dataframe tbody tr th:only-of-type {\n",
       "        vertical-align: middle;\n",
       "    }\n",
       "\n",
       "    .dataframe tbody tr th {\n",
       "        vertical-align: top;\n",
       "    }\n",
       "\n",
       "    .dataframe thead th {\n",
       "        text-align: right;\n",
       "    }\n",
       "</style>\n",
       "<table border=\"1\" class=\"dataframe\">\n",
       "  <thead>\n",
       "    <tr style=\"text-align: right;\">\n",
       "      <th></th>\n",
       "      <th>Codigo</th>\n",
       "      <th>Matricula</th>\n",
       "      <th>Fecha Matriculacion</th>\n",
       "      <th>Marca</th>\n",
       "      <th>Modelo</th>\n",
       "      <th>Tipo</th>\n",
       "      <th>Variante</th>\n",
       "      <th>Clasificacion medioambiental</th>\n",
       "      <th>Combustible</th>\n",
       "      <th>Cilindrada</th>\n",
       "      <th>Potencia</th>\n",
       "      <th>Numero de Plazas</th>\n",
       "      <th>Fecha inicio de prestacion del servicio de taxi</th>\n",
       "      <th>Eurotaxi</th>\n",
       "      <th>Regimen Especial de Eurotaxi</th>\n",
       "      <th>Fecha inicio Regimen Especial Eurotaxi</th>\n",
       "      <th>Fecha fin Regimen Especial Eurotaxi</th>\n",
       "      <th>Fecha</th>\n",
       "    </tr>\n",
       "  </thead>\n",
       "  <tbody>\n",
       "    <tr>\n",
       "      <th>10625</th>\n",
       "      <td>1229223</td>\n",
       "      <td>0001HFW</td>\n",
       "      <td>2011-04-08</td>\n",
       "      <td>SKODA</td>\n",
       "      <td>OCTAVIA</td>\n",
       "      <td>1Z</td>\n",
       "      <td>AACAYCX01/NFM5***</td>\n",
       "      <td>B</td>\n",
       "      <td>DIESEL</td>\n",
       "      <td>1598</td>\n",
       "      <td>77.0</td>\n",
       "      <td>5</td>\n",
       "      <td>2011-05-08</td>\n",
       "      <td>NO</td>\n",
       "      <td>NO</td>\n",
       "      <td>NaT</td>\n",
       "      <td>NaT</td>\n",
       "      <td>2018-07-30</td>\n",
       "    </tr>\n",
       "    <tr>\n",
       "      <th>26222</th>\n",
       "      <td>1229223</td>\n",
       "      <td>0001HFW</td>\n",
       "      <td>2011-04-08</td>\n",
       "      <td>SKODA</td>\n",
       "      <td>OCTAVIA</td>\n",
       "      <td>1Z</td>\n",
       "      <td>AACAYCX01/NFM5***</td>\n",
       "      <td>B</td>\n",
       "      <td>DIESEL</td>\n",
       "      <td>1598</td>\n",
       "      <td>77.0</td>\n",
       "      <td>5</td>\n",
       "      <td>2011-05-08</td>\n",
       "      <td>NO</td>\n",
       "      <td>NO</td>\n",
       "      <td>NaT</td>\n",
       "      <td>NaT</td>\n",
       "      <td>2018-08-30</td>\n",
       "    </tr>\n",
       "    <tr>\n",
       "      <th>41836</th>\n",
       "      <td>1229223</td>\n",
       "      <td>0001HFW</td>\n",
       "      <td>2011-04-08</td>\n",
       "      <td>SKODA</td>\n",
       "      <td>OCTAVIA</td>\n",
       "      <td>1Z</td>\n",
       "      <td>AACAYCX01/NFM5***</td>\n",
       "      <td>B</td>\n",
       "      <td>DIESEL</td>\n",
       "      <td>1598</td>\n",
       "      <td>77.0</td>\n",
       "      <td>5</td>\n",
       "      <td>2011-05-08</td>\n",
       "      <td>NO</td>\n",
       "      <td>NO</td>\n",
       "      <td>NaT</td>\n",
       "      <td>NaT</td>\n",
       "      <td>2018-09-29</td>\n",
       "    </tr>\n",
       "    <tr>\n",
       "      <th>3295</th>\n",
       "      <td>1307914</td>\n",
       "      <td>9998HTL</td>\n",
       "      <td>2013-07-11</td>\n",
       "      <td>PEUGEOT</td>\n",
       "      <td>5008</td>\n",
       "      <td>0</td>\n",
       "      <td>0ARHE*</td>\n",
       "      <td>B</td>\n",
       "      <td>DIESEL</td>\n",
       "      <td>1997</td>\n",
       "      <td>110.0</td>\n",
       "      <td>5</td>\n",
       "      <td>2013-11-11</td>\n",
       "      <td>NO</td>\n",
       "      <td>NO</td>\n",
       "      <td>NaT</td>\n",
       "      <td>NaT</td>\n",
       "      <td>2018-07-30</td>\n",
       "    </tr>\n",
       "    <tr>\n",
       "      <th>18991</th>\n",
       "      <td>1307914</td>\n",
       "      <td>9998HTL</td>\n",
       "      <td>2013-07-11</td>\n",
       "      <td>PEUGEOT</td>\n",
       "      <td>5008</td>\n",
       "      <td>0</td>\n",
       "      <td>0ARHE*</td>\n",
       "      <td>B</td>\n",
       "      <td>DIESEL</td>\n",
       "      <td>1997</td>\n",
       "      <td>110.0</td>\n",
       "      <td>5</td>\n",
       "      <td>2013-11-11</td>\n",
       "      <td>NO</td>\n",
       "      <td>NO</td>\n",
       "      <td>NaT</td>\n",
       "      <td>NaT</td>\n",
       "      <td>2018-08-30</td>\n",
       "    </tr>\n",
       "    <tr>\n",
       "      <th>34719</th>\n",
       "      <td>1307914</td>\n",
       "      <td>9998HTL</td>\n",
       "      <td>2013-07-11</td>\n",
       "      <td>PEUGEOT</td>\n",
       "      <td>5008</td>\n",
       "      <td>0</td>\n",
       "      <td>0ARHE*</td>\n",
       "      <td>B</td>\n",
       "      <td>DIESEL</td>\n",
       "      <td>1997</td>\n",
       "      <td>110.0</td>\n",
       "      <td>5</td>\n",
       "      <td>2013-11-11</td>\n",
       "      <td>NO</td>\n",
       "      <td>NO</td>\n",
       "      <td>NaT</td>\n",
       "      <td>NaT</td>\n",
       "      <td>2018-09-29</td>\n",
       "    </tr>\n",
       "  </tbody>\n",
       "</table>\n",
       "</div>"
      ],
      "text/plain": [
       "        Codigo Matricula Fecha Matriculacion    Marca   Modelo Tipo  \\\n",
       "10625  1229223   0001HFW          2011-04-08    SKODA  OCTAVIA   1Z   \n",
       "26222  1229223   0001HFW          2011-04-08    SKODA  OCTAVIA   1Z   \n",
       "41836  1229223   0001HFW          2011-04-08    SKODA  OCTAVIA   1Z   \n",
       "3295   1307914   9998HTL          2013-07-11  PEUGEOT     5008    0   \n",
       "18991  1307914   9998HTL          2013-07-11  PEUGEOT     5008    0   \n",
       "34719  1307914   9998HTL          2013-07-11  PEUGEOT     5008    0   \n",
       "\n",
       "                Variante Clasificacion medioambiental Combustible  Cilindrada  \\\n",
       "10625  AACAYCX01/NFM5***                            B      DIESEL        1598   \n",
       "26222  AACAYCX01/NFM5***                            B      DIESEL        1598   \n",
       "41836  AACAYCX01/NFM5***                            B      DIESEL        1598   \n",
       "3295              0ARHE*                            B      DIESEL        1997   \n",
       "18991             0ARHE*                            B      DIESEL        1997   \n",
       "34719             0ARHE*                            B      DIESEL        1997   \n",
       "\n",
       "       Potencia Numero de Plazas  \\\n",
       "10625      77.0                5   \n",
       "26222      77.0                5   \n",
       "41836      77.0                5   \n",
       "3295      110.0                5   \n",
       "18991     110.0                5   \n",
       "34719     110.0                5   \n",
       "\n",
       "      Fecha inicio de prestacion del servicio de taxi Eurotaxi  \\\n",
       "10625                                      2011-05-08       NO   \n",
       "26222                                      2011-05-08       NO   \n",
       "41836                                      2011-05-08       NO   \n",
       "3295                                       2013-11-11       NO   \n",
       "18991                                      2013-11-11       NO   \n",
       "34719                                      2013-11-11       NO   \n",
       "\n",
       "      Regimen Especial de Eurotaxi Fecha inicio Regimen Especial Eurotaxi  \\\n",
       "10625                           NO                                    NaT   \n",
       "26222                           NO                                    NaT   \n",
       "41836                           NO                                    NaT   \n",
       "3295                            NO                                    NaT   \n",
       "18991                           NO                                    NaT   \n",
       "34719                           NO                                    NaT   \n",
       "\n",
       "      Fecha fin Regimen Especial Eurotaxi      Fecha  \n",
       "10625                                 NaT 2018-07-30  \n",
       "26222                                 NaT 2018-08-30  \n",
       "41836                                 NaT 2018-09-29  \n",
       "3295                                  NaT 2018-07-30  \n",
       "18991                                 NaT 2018-08-30  \n",
       "34719                                 NaT 2018-09-29  "
      ]
     },
     "execution_count": 10,
     "metadata": {},
     "output_type": "execute_result"
    }
   ],
   "source": [
    "df[(df['Matricula'] == '0001HFW') | (df['Matricula'] == '9998HTL')].sort_values(by='Matricula')"
   ]
  },
  {
   "cell_type": "markdown",
   "metadata": {},
   "source": [
    "Let's check hoy many observations with 'Fecha' equal to July, August or September:"
   ]
  },
  {
   "cell_type": "code",
   "execution_count": 11,
   "metadata": {},
   "outputs": [
    {
     "name": "stdout",
     "output_type": "stream",
     "text": [
      "July nrows = 15638\n",
      "August nrows = 15640\n",
      "September nrows = 15640\n"
     ]
    }
   ],
   "source": [
    "print('July nrows =', df[df['Fecha'] == '2018-07-30'].shape[0]) #number of rows from July 2018\n",
    "print('August nrows =', df[df['Fecha'] == '2018-08-30'].shape[0]) #number of rows from August 2018\n",
    "print('September nrows =', df[df['Fecha'] == '2018-09-29'].shape[0]) #number of rows from September 2018"
   ]
  },
  {
   "cell_type": "markdown",
   "metadata": {},
   "source": [
    "Ok. It looks like ther are a couple of missing datapoint for July, so to downsize our dataset we will can use august or September. We will use the last information available, i.e. September."
   ]
  },
  {
   "cell_type": "code",
   "execution_count": 12,
   "metadata": {},
   "outputs": [],
   "source": [
    "df_new = df[df['Fecha'] == '2018-09-29']"
   ]
  },
  {
   "cell_type": "code",
   "execution_count": 13,
   "metadata": {},
   "outputs": [
    {
     "data": {
      "text/plain": [
       "(15640, 18)"
      ]
     },
     "execution_count": 13,
     "metadata": {},
     "output_type": "execute_result"
    }
   ],
   "source": [
    "df_new.shape"
   ]
  },
  {
   "cell_type": "code",
   "execution_count": 14,
   "metadata": {},
   "outputs": [
    {
     "data": {
      "text/html": [
       "<div>\n",
       "<style scoped>\n",
       "    .dataframe tbody tr th:only-of-type {\n",
       "        vertical-align: middle;\n",
       "    }\n",
       "\n",
       "    .dataframe tbody tr th {\n",
       "        vertical-align: top;\n",
       "    }\n",
       "\n",
       "    .dataframe thead th {\n",
       "        text-align: right;\n",
       "    }\n",
       "</style>\n",
       "<table border=\"1\" class=\"dataframe\">\n",
       "  <thead>\n",
       "    <tr style=\"text-align: right;\">\n",
       "      <th></th>\n",
       "      <th>Codigo</th>\n",
       "      <th>Matricula</th>\n",
       "      <th>Fecha Matriculacion</th>\n",
       "      <th>Marca</th>\n",
       "      <th>Modelo</th>\n",
       "      <th>Tipo</th>\n",
       "      <th>Variante</th>\n",
       "      <th>Clasificacion medioambiental</th>\n",
       "      <th>Combustible</th>\n",
       "      <th>Cilindrada</th>\n",
       "      <th>Potencia</th>\n",
       "      <th>Numero de Plazas</th>\n",
       "      <th>Fecha inicio de prestacion del servicio de taxi</th>\n",
       "      <th>Eurotaxi</th>\n",
       "      <th>Regimen Especial de Eurotaxi</th>\n",
       "      <th>Fecha inicio Regimen Especial Eurotaxi</th>\n",
       "      <th>Fecha fin Regimen Especial Eurotaxi</th>\n",
       "      <th>Fecha</th>\n",
       "    </tr>\n",
       "  </thead>\n",
       "  <tbody>\n",
       "    <tr>\n",
       "      <th>31278</th>\n",
       "      <td>1198109</td>\n",
       "      <td>0800GZC</td>\n",
       "      <td>2010-10-18</td>\n",
       "      <td>CHEVROLET</td>\n",
       "      <td>EPICA</td>\n",
       "      <td>KLAL</td>\n",
       "      <td>LV3/134</td>\n",
       "      <td>B</td>\n",
       "      <td>DIESEL</td>\n",
       "      <td>1991</td>\n",
       "      <td>110.0</td>\n",
       "      <td>5</td>\n",
       "      <td>2010-10-25</td>\n",
       "      <td>NO</td>\n",
       "      <td>NO</td>\n",
       "      <td>NaT</td>\n",
       "      <td>NaT</td>\n",
       "      <td>2018-09-29</td>\n",
       "    </tr>\n",
       "    <tr>\n",
       "      <th>31279</th>\n",
       "      <td>1196804</td>\n",
       "      <td>7686GYS</td>\n",
       "      <td>2010-09-23</td>\n",
       "      <td>CHEVROLET</td>\n",
       "      <td>EPICA</td>\n",
       "      <td>KLAL</td>\n",
       "      <td>LV1/111</td>\n",
       "      <td>C</td>\n",
       "      <td>GASOLINA TRANSFORMADO GLP</td>\n",
       "      <td>1993</td>\n",
       "      <td>105.0</td>\n",
       "      <td>5</td>\n",
       "      <td>2010-04-10</td>\n",
       "      <td>NO</td>\n",
       "      <td>NO</td>\n",
       "      <td>NaT</td>\n",
       "      <td>NaT</td>\n",
       "      <td>2018-09-29</td>\n",
       "    </tr>\n",
       "  </tbody>\n",
       "</table>\n",
       "</div>"
      ],
      "text/plain": [
       "        Codigo Matricula Fecha Matriculacion      Marca Modelo  Tipo Variante  \\\n",
       "31278  1198109   0800GZC          2010-10-18  CHEVROLET  EPICA  KLAL  LV3/134   \n",
       "31279  1196804   7686GYS          2010-09-23  CHEVROLET  EPICA  KLAL  LV1/111   \n",
       "\n",
       "      Clasificacion medioambiental                Combustible  Cilindrada  \\\n",
       "31278                            B                     DIESEL        1991   \n",
       "31279                            C  GASOLINA TRANSFORMADO GLP        1993   \n",
       "\n",
       "       Potencia Numero de Plazas  \\\n",
       "31278     110.0                5   \n",
       "31279     105.0                5   \n",
       "\n",
       "      Fecha inicio de prestacion del servicio de taxi Eurotaxi  \\\n",
       "31278                                      2010-10-25       NO   \n",
       "31279                                      2010-04-10       NO   \n",
       "\n",
       "      Regimen Especial de Eurotaxi Fecha inicio Regimen Especial Eurotaxi  \\\n",
       "31278                           NO                                    NaT   \n",
       "31279                           NO                                    NaT   \n",
       "\n",
       "      Fecha fin Regimen Especial Eurotaxi      Fecha  \n",
       "31278                                 NaT 2018-09-29  \n",
       "31279                                 NaT 2018-09-29  "
      ]
     },
     "execution_count": 14,
     "metadata": {},
     "output_type": "execute_result"
    }
   ],
   "source": [
    "df_new.head(2)"
   ]
  },
  {
   "cell_type": "markdown",
   "metadata": {},
   "source": [
    "Good. Let's now check how many nulls do we have per row. "
   ]
  },
  {
   "cell_type": "code",
   "execution_count": 15,
   "metadata": {},
   "outputs": [],
   "source": [
    "# Checking quantity of missing data. \n",
    "def null_cols(data):\n",
    "\n",
    "    \"\"\"\n",
    "    This function takes a dataframe df and shows the columns of df that have NaN values\n",
    "    and the number of them\n",
    "\n",
    "    \"\"\"\n",
    "    nulls = data.isna().sum()\n",
    "    nulls = nulls[nulls > 0] / len(data) * 100\n",
    "    nulls = pd.DataFrame(nulls.sort_values(ascending = False))\n",
    "    nulls = nulls.reset_index().rename(columns = {\"index\": \"Feature\", 0: \"% Null rows\"})\n",
    "    return nulls"
   ]
  },
  {
   "cell_type": "code",
   "execution_count": 16,
   "metadata": {},
   "outputs": [
    {
     "data": {
      "text/html": [
       "<div>\n",
       "<style scoped>\n",
       "    .dataframe tbody tr th:only-of-type {\n",
       "        vertical-align: middle;\n",
       "    }\n",
       "\n",
       "    .dataframe tbody tr th {\n",
       "        vertical-align: top;\n",
       "    }\n",
       "\n",
       "    .dataframe thead th {\n",
       "        text-align: right;\n",
       "    }\n",
       "</style>\n",
       "<table border=\"1\" class=\"dataframe\">\n",
       "  <thead>\n",
       "    <tr style=\"text-align: right;\">\n",
       "      <th></th>\n",
       "      <th>Feature</th>\n",
       "      <th>% Null rows</th>\n",
       "    </tr>\n",
       "  </thead>\n",
       "  <tbody>\n",
       "    <tr>\n",
       "      <th>0</th>\n",
       "      <td>Fecha fin Regimen Especial Eurotaxi</td>\n",
       "      <td>96.700767</td>\n",
       "    </tr>\n",
       "    <tr>\n",
       "      <th>1</th>\n",
       "      <td>Fecha inicio Regimen Especial Eurotaxi</td>\n",
       "      <td>96.700767</td>\n",
       "    </tr>\n",
       "    <tr>\n",
       "      <th>2</th>\n",
       "      <td>Potencia</td>\n",
       "      <td>0.012788</td>\n",
       "    </tr>\n",
       "  </tbody>\n",
       "</table>\n",
       "</div>"
      ],
      "text/plain": [
       "                                  Feature  % Null rows\n",
       "0     Fecha fin Regimen Especial Eurotaxi    96.700767\n",
       "1  Fecha inicio Regimen Especial Eurotaxi    96.700767\n",
       "2                                Potencia     0.012788"
      ]
     },
     "execution_count": 16,
     "metadata": {},
     "output_type": "execute_result"
    }
   ],
   "source": [
    "null_cols(df_new)"
   ]
  },
  {
   "cell_type": "markdown",
   "metadata": {},
   "source": [
    "Great. These features won't be needed for modelling, so we can forget about filling nulls. One option to deal with nulls, i.e. with \"Potencia\" (tr. Horse Power), should be to drop these rows, or to fill these NaN values using k-nearest neighbors algorithm with `from sklearn.impute import KNNImputer`"
   ]
  },
  {
   "cell_type": "markdown",
   "metadata": {},
   "source": [
    "- **Analysis of features and target**"
   ]
  },
  {
   "cell_type": "code",
   "execution_count": 17,
   "metadata": {},
   "outputs": [
    {
     "data": {
      "text/html": [
       "<div>\n",
       "<style scoped>\n",
       "    .dataframe tbody tr th:only-of-type {\n",
       "        vertical-align: middle;\n",
       "    }\n",
       "\n",
       "    .dataframe tbody tr th {\n",
       "        vertical-align: top;\n",
       "    }\n",
       "\n",
       "    .dataframe thead th {\n",
       "        text-align: right;\n",
       "    }\n",
       "</style>\n",
       "<table border=\"1\" class=\"dataframe\">\n",
       "  <thead>\n",
       "    <tr style=\"text-align: right;\">\n",
       "      <th></th>\n",
       "      <th>Codigo</th>\n",
       "      <th>Cilindrada</th>\n",
       "      <th>Potencia</th>\n",
       "    </tr>\n",
       "  </thead>\n",
       "  <tbody>\n",
       "    <tr>\n",
       "      <th>count</th>\n",
       "      <td>1.564000e+04</td>\n",
       "      <td>15640.000000</td>\n",
       "      <td>15638.000000</td>\n",
       "    </tr>\n",
       "    <tr>\n",
       "      <th>mean</th>\n",
       "      <td>1.359953e+06</td>\n",
       "      <td>1682.342519</td>\n",
       "      <td>79.036207</td>\n",
       "    </tr>\n",
       "    <tr>\n",
       "      <th>std</th>\n",
       "      <td>9.993767e+04</td>\n",
       "      <td>170.640876</td>\n",
       "      <td>9.966666</td>\n",
       "    </tr>\n",
       "    <tr>\n",
       "      <th>min</th>\n",
       "      <td>5.501600e+05</td>\n",
       "      <td>0.000000</td>\n",
       "      <td>0.000000</td>\n",
       "    </tr>\n",
       "    <tr>\n",
       "      <th>25%</th>\n",
       "      <td>1.289659e+06</td>\n",
       "      <td>1598.000000</td>\n",
       "      <td>73.000000</td>\n",
       "    </tr>\n",
       "    <tr>\n",
       "      <th>50%</th>\n",
       "      <td>1.353722e+06</td>\n",
       "      <td>1598.000000</td>\n",
       "      <td>77.000000</td>\n",
       "    </tr>\n",
       "    <tr>\n",
       "      <th>75%</th>\n",
       "      <td>1.441324e+06</td>\n",
       "      <td>1798.000000</td>\n",
       "      <td>85.000000</td>\n",
       "    </tr>\n",
       "    <tr>\n",
       "      <th>max</th>\n",
       "      <td>1.524506e+06</td>\n",
       "      <td>3498.000000</td>\n",
       "      <td>193.000000</td>\n",
       "    </tr>\n",
       "  </tbody>\n",
       "</table>\n",
       "</div>"
      ],
      "text/plain": [
       "             Codigo    Cilindrada      Potencia\n",
       "count  1.564000e+04  15640.000000  15638.000000\n",
       "mean   1.359953e+06   1682.342519     79.036207\n",
       "std    9.993767e+04    170.640876      9.966666\n",
       "min    5.501600e+05      0.000000      0.000000\n",
       "25%    1.289659e+06   1598.000000     73.000000\n",
       "50%    1.353722e+06   1598.000000     77.000000\n",
       "75%    1.441324e+06   1798.000000     85.000000\n",
       "max    1.524506e+06   3498.000000    193.000000"
      ]
     },
     "execution_count": 17,
     "metadata": {},
     "output_type": "execute_result"
    }
   ],
   "source": [
    "df_new.describe() #basic stats for numeric features"
   ]
  },
  {
   "cell_type": "code",
   "execution_count": 18,
   "metadata": {},
   "outputs": [
    {
     "data": {
      "text/html": [
       "<div>\n",
       "<style scoped>\n",
       "    .dataframe tbody tr th:only-of-type {\n",
       "        vertical-align: middle;\n",
       "    }\n",
       "\n",
       "    .dataframe tbody tr th {\n",
       "        vertical-align: top;\n",
       "    }\n",
       "\n",
       "    .dataframe thead th {\n",
       "        text-align: right;\n",
       "    }\n",
       "</style>\n",
       "<table border=\"1\" class=\"dataframe\">\n",
       "  <thead>\n",
       "    <tr style=\"text-align: right;\">\n",
       "      <th></th>\n",
       "      <th>Matricula</th>\n",
       "      <th>Fecha Matriculacion</th>\n",
       "      <th>Marca</th>\n",
       "      <th>Modelo</th>\n",
       "      <th>Tipo</th>\n",
       "      <th>Variante</th>\n",
       "      <th>Clasificacion medioambiental</th>\n",
       "      <th>Combustible</th>\n",
       "      <th>Numero de Plazas</th>\n",
       "      <th>Fecha inicio de prestacion del servicio de taxi</th>\n",
       "      <th>Eurotaxi</th>\n",
       "      <th>Regimen Especial de Eurotaxi</th>\n",
       "      <th>Fecha inicio Regimen Especial Eurotaxi</th>\n",
       "      <th>Fecha fin Regimen Especial Eurotaxi</th>\n",
       "      <th>Fecha</th>\n",
       "    </tr>\n",
       "  </thead>\n",
       "  <tbody>\n",
       "    <tr>\n",
       "      <th>count</th>\n",
       "      <td>15640</td>\n",
       "      <td>15640</td>\n",
       "      <td>15640</td>\n",
       "      <td>15640</td>\n",
       "      <td>15640</td>\n",
       "      <td>15640</td>\n",
       "      <td>15640</td>\n",
       "      <td>15640</td>\n",
       "      <td>15640</td>\n",
       "      <td>15640</td>\n",
       "      <td>15640</td>\n",
       "      <td>15640</td>\n",
       "      <td>516</td>\n",
       "      <td>516</td>\n",
       "      <td>15640</td>\n",
       "    </tr>\n",
       "    <tr>\n",
       "      <th>unique</th>\n",
       "      <td>15640</td>\n",
       "      <td>2365</td>\n",
       "      <td>17</td>\n",
       "      <td>66</td>\n",
       "      <td>54</td>\n",
       "      <td>197</td>\n",
       "      <td>4</td>\n",
       "      <td>7</td>\n",
       "      <td>14</td>\n",
       "      <td>2245</td>\n",
       "      <td>2</td>\n",
       "      <td>2</td>\n",
       "      <td>265</td>\n",
       "      <td>2</td>\n",
       "      <td>1</td>\n",
       "    </tr>\n",
       "    <tr>\n",
       "      <th>top</th>\n",
       "      <td>1452JJV</td>\n",
       "      <td>2012-02-01 00:00:00</td>\n",
       "      <td>SKODA</td>\n",
       "      <td>PRIUS</td>\n",
       "      <td>NH</td>\n",
       "      <td>ZVW30(H)</td>\n",
       "      <td>ECO</td>\n",
       "      <td>DIESEL</td>\n",
       "      <td>5</td>\n",
       "      <td>2018-05-30 00:00:00</td>\n",
       "      <td>NO</td>\n",
       "      <td>NO</td>\n",
       "      <td>2015-07-04 00:00:00</td>\n",
       "      <td>2023-11-07 00:00:00</td>\n",
       "      <td>2018-09-29 00:00:00</td>\n",
       "    </tr>\n",
       "    <tr>\n",
       "      <th>freq</th>\n",
       "      <td>1</td>\n",
       "      <td>28</td>\n",
       "      <td>4339</td>\n",
       "      <td>2869</td>\n",
       "      <td>3525</td>\n",
       "      <td>2851</td>\n",
       "      <td>7064</td>\n",
       "      <td>8509</td>\n",
       "      <td>15154</td>\n",
       "      <td>33</td>\n",
       "      <td>15100</td>\n",
       "      <td>15124</td>\n",
       "      <td>39</td>\n",
       "      <td>273</td>\n",
       "      <td>15640</td>\n",
       "    </tr>\n",
       "    <tr>\n",
       "      <th>first</th>\n",
       "      <td>NaN</td>\n",
       "      <td>2007-06-11 00:00:00</td>\n",
       "      <td>NaN</td>\n",
       "      <td>NaN</td>\n",
       "      <td>NaN</td>\n",
       "      <td>NaN</td>\n",
       "      <td>NaN</td>\n",
       "      <td>NaN</td>\n",
       "      <td>NaN</td>\n",
       "      <td>2007-07-23 00:00:00</td>\n",
       "      <td>NaN</td>\n",
       "      <td>NaN</td>\n",
       "      <td>2015-01-09 00:00:00</td>\n",
       "      <td>2021-07-04 00:00:00</td>\n",
       "      <td>2018-09-29 00:00:00</td>\n",
       "    </tr>\n",
       "    <tr>\n",
       "      <th>last</th>\n",
       "      <td>NaN</td>\n",
       "      <td>2018-12-09 00:00:00</td>\n",
       "      <td>NaN</td>\n",
       "      <td>NaN</td>\n",
       "      <td>NaN</td>\n",
       "      <td>NaN</td>\n",
       "      <td>NaN</td>\n",
       "      <td>NaN</td>\n",
       "      <td>NaN</td>\n",
       "      <td>2018-12-09 00:00:00</td>\n",
       "      <td>NaN</td>\n",
       "      <td>NaN</td>\n",
       "      <td>2018-12-07 00:00:00</td>\n",
       "      <td>2023-11-07 00:00:00</td>\n",
       "      <td>2018-09-29 00:00:00</td>\n",
       "    </tr>\n",
       "  </tbody>\n",
       "</table>\n",
       "</div>"
      ],
      "text/plain": [
       "       Matricula  Fecha Matriculacion  Marca Modelo   Tipo  Variante  \\\n",
       "count      15640                15640  15640  15640  15640     15640   \n",
       "unique     15640                 2365     17     66     54       197   \n",
       "top      1452JJV  2012-02-01 00:00:00  SKODA  PRIUS     NH  ZVW30(H)   \n",
       "freq           1                   28   4339   2869   3525      2851   \n",
       "first        NaN  2007-06-11 00:00:00    NaN    NaN    NaN       NaN   \n",
       "last         NaN  2018-12-09 00:00:00    NaN    NaN    NaN       NaN   \n",
       "\n",
       "       Clasificacion medioambiental Combustible Numero de Plazas  \\\n",
       "count                         15640       15640            15640   \n",
       "unique                            4           7               14   \n",
       "top                             ECO      DIESEL                5   \n",
       "freq                           7064        8509            15154   \n",
       "first                           NaN         NaN              NaN   \n",
       "last                            NaN         NaN              NaN   \n",
       "\n",
       "       Fecha inicio de prestacion del servicio de taxi Eurotaxi  \\\n",
       "count                                            15640    15640   \n",
       "unique                                            2245        2   \n",
       "top                                2018-05-30 00:00:00       NO   \n",
       "freq                                                33    15100   \n",
       "first                              2007-07-23 00:00:00      NaN   \n",
       "last                               2018-12-09 00:00:00      NaN   \n",
       "\n",
       "       Regimen Especial de Eurotaxi Fecha inicio Regimen Especial Eurotaxi  \\\n",
       "count                         15640                                    516   \n",
       "unique                            2                                    265   \n",
       "top                              NO                    2015-07-04 00:00:00   \n",
       "freq                          15124                                     39   \n",
       "first                           NaN                    2015-01-09 00:00:00   \n",
       "last                            NaN                    2018-12-07 00:00:00   \n",
       "\n",
       "       Fecha fin Regimen Especial Eurotaxi                Fecha  \n",
       "count                                  516                15640  \n",
       "unique                                   2                    1  \n",
       "top                    2023-11-07 00:00:00  2018-09-29 00:00:00  \n",
       "freq                                   273                15640  \n",
       "first                  2021-07-04 00:00:00  2018-09-29 00:00:00  \n",
       "last                   2023-11-07 00:00:00  2018-09-29 00:00:00  "
      ]
     },
     "execution_count": 18,
     "metadata": {},
     "output_type": "execute_result"
    }
   ],
   "source": [
    "df_new.describe(include = ['object','datetime64']) #basic stats for rest of features"
   ]
  },
  {
   "cell_type": "markdown",
   "metadata": {},
   "source": [
    "Some issues to take into account: Top target value is 'ECO'. Top Fuel is 'DIESEL', and there are 7 types of fuel. Average Horse Power is 79. Average engine capacity is 1682 cc. There are 17 brands represented in the dataset."
   ]
  },
  {
   "cell_type": "markdown",
   "metadata": {},
   "source": [
    "### Let's now explore the target variable **'Clasificacion medioambiental'**:"
   ]
  },
  {
   "cell_type": "markdown",
   "metadata": {},
   "source": [
    "What unique values does our target variable have? And what about fuel type?"
   ]
  },
  {
   "cell_type": "code",
   "execution_count": 19,
   "metadata": {},
   "outputs": [
    {
     "data": {
      "text/plain": [
       "array(['B', 'C', 'ECO', '0'], dtype=object)"
      ]
     },
     "execution_count": 19,
     "metadata": {},
     "output_type": "execute_result"
    }
   ],
   "source": [
    "df_new['Clasificacion medioambiental'].unique()"
   ]
  },
  {
   "cell_type": "code",
   "execution_count": 20,
   "metadata": {},
   "outputs": [
    {
     "data": {
      "text/plain": [
       "array(['DIESEL', 'GASOLINA TRANSFORMADO GLP', 'GLP / GASOLINA',\n",
       "       'GASOLINA-ELECTRICIDAD', 'GASOLINA - GAS NATURAL', 'ELECTRICO',\n",
       "       'GASOLINA'], dtype=object)"
      ]
     },
     "execution_count": 20,
     "metadata": {},
     "output_type": "execute_result"
    }
   ],
   "source": [
    "df_new['Combustible'].unique() #Fuel type values"
   ]
  },
  {
   "cell_type": "markdown",
   "metadata": {},
   "source": [
    "We see that we have the following values for fuel type:\n",
    "- DIESEL =  (diesel)\n",
    "- GASOLINA TRANSFORMADO GLP = Gasoline transformed into petroleum liquid gas\n",
    "- GLP / GASOLINA = combination of gasoline and petroleum liquid gas\n",
    "- GASOLINA-ELECTRICIDAD = combination of gasoline and electric (Hybrid)\n",
    "- GASOLINA - GAS NATURAL = combination of gasoline and natural gas\n",
    "- GASOLINA = Gasoline only."
   ]
  },
  {
   "cell_type": "markdown",
   "metadata": {},
   "source": [
    "- **Checking correlation matrix for categorical features**\n",
    "\n",
    "We will use contingency tables for analyzing whether there is some correlation between 'Clasificacion medioambiental' and Brands and Fuel types."
   ]
  },
  {
   "cell_type": "code",
   "execution_count": 21,
   "metadata": {},
   "outputs": [
    {
     "data": {
      "image/png": "[encoded data removed]",
      "text/plain": [
       "<Figure size 576x288 with 2 Axes>"
      ]
     },
     "metadata": {
      "needs_background": "light"
     },
     "output_type": "display_data"
    }
   ],
   "source": [
    "fig, ax = plt.subplots(figsize=(8,4))\n",
    "\n",
    "#We use the function crosstab in pandas to create a contingency table\n",
    "sns.heatmap(pd.crosstab(df_new[\"Clasificacion medioambiental\"], df_new[\"Combustible\"], values = df_new[\"Clasificacion medioambiental\"], aggfunc = \"count\"),\n",
    "            cmap=\"mako_r\", \n",
    "            annot=True,\n",
    "            cbar_kws={'fraction' : 0.01}, # shrink colour bar\n",
    "            annot_kws={\"size\": 12},\n",
    "            fmt='g', #avoids scientific numbers like 2.1e+03 and shows it as is\n",
    "            linewidth=0.01, # space between cells\n",
    "            linecolor =\"gray\",\n",
    "            ax = ax).set_xticklabels(ax.get_xticklabels());\n",
    "ax.set_title(\"Tipo Combustible Vs Clasificación medioambiental\", fontsize= 16);"
   ]
  },
  {
   "cell_type": "markdown",
   "metadata": {},
   "source": [
    "Insights: \n",
    "- 'ELECTRICO' fuel type and '0'  Class have a 1 to 1 relationship. \n",
    "- All 'GASOLINA' fuel type vehicles are 'C' Class.\n",
    "- All 'GASOLINA-GAS NATURAL' fuel type vehicles are 'ECO' Class.\n",
    "- All 'GASOLINA-ELECTRICIDAD' fuel typevehicles  are 'ECO' Class.\n",
    "- All 'GLP/GASOLINA' fuel type vehicles are 'ECO' Class."
   ]
  },
  {
   "cell_type": "code",
   "execution_count": 22,
   "metadata": {},
   "outputs": [
    {
     "data": {
      "image/png": "[encoded data removed]",
      "text/plain": [
       "<Figure size 1008x216 with 2 Axes>"
      ]
     },
     "metadata": {
      "needs_background": "light"
     },
     "output_type": "display_data"
    }
   ],
   "source": [
    "fig, ax = plt.subplots(figsize=(14,3))\n",
    "\n",
    "#We use the function crosstab in pandas to create a contingency table\n",
    "sns.heatmap(pd.crosstab(df_new[\"Clasificacion medioambiental\"], df_new[\"Marca\"], values = df_new[\"Clasificacion medioambiental\"], aggfunc = \"count\"),\n",
    "            cmap=\"mako_r\", \n",
    "            annot=True,\n",
    "            cbar_kws={'fraction' : 0.01}, # shrink colour bar\n",
    "            annot_kws={\"size\": 12},\n",
    "            fmt='g', #avoids scientific numbers like 2.1e+03 and shows it as is\n",
    "            linewidth=0.01, # space between cells\n",
    "            linecolor =\"gray\",\n",
    "            ax = ax).set_xticklabels(ax.get_xticklabels());\n",
    "ax.set_title(\"Marca Vs Clasificación medioambiental\", fontsize= 16);"
   ]
  },
  {
   "cell_type": "markdown",
   "metadata": {},
   "source": [
    "...*I'd like to have been a passenger of that Tesla taxi driver* :-)"
   ]
  },
  {
   "cell_type": "code",
   "execution_count": 23,
   "metadata": {},
   "outputs": [
    {
     "data": {
      "text/plain": [
       "Marca\n",
       "SKODA            4339\n",
       "TOYOTA           4154\n",
       "SEAT             2680\n",
       "DACIA            1245\n",
       "PEUGEOT           949\n",
       "CITROEN           709\n",
       "VOLKSWAGEN        532\n",
       "FIAT              493\n",
       "MERCEDES-BENZ     205\n",
       "FORD              160\n",
       "RENAULT           125\n",
       "NISSAN             16\n",
       "SSANGYONG          15\n",
       "HYUNDAI             6\n",
       "CHEVROLET           6\n",
       "LEXUS               5\n",
       "TESLA               1\n",
       "Name: Matricula, dtype: int64"
      ]
     },
     "execution_count": 23,
     "metadata": {},
     "output_type": "execute_result"
    }
   ],
   "source": [
    "# checking how many vehicles are there by brand\n",
    "grouped = df_new.groupby(by=\"Marca\").count()[\"Matricula\"]\n",
    "grouped.sort_values(ascending=False)"
   ]
  },
  {
   "cell_type": "markdown",
   "metadata": {},
   "source": [
    "Let's see the frequence of vehicle brands in a more appealing way: using a WordCloud:"
   ]
  },
  {
   "cell_type": "code",
   "execution_count": 24,
   "metadata": {},
   "outputs": [],
   "source": [
    "from wordcloud import WordCloud, STOPWORDS\n",
    "\n",
    "#create a sigle string with all values\n",
    "all_brands = ''\n",
    "for i in range(len(df_new[\"Marca\"])):\n",
    "    all_brands = all_brands + ',' + df_new.iloc[i, 3]"
   ]
  },
  {
   "cell_type": "code",
   "execution_count": 25,
   "metadata": {},
   "outputs": [
    {
     "data": {
      "text/plain": [
       "',CHEVROLET,CHEVROLET,CHEVROLET,CHEVROLET,CHEVROLET,CHEVROLET,CITROEN,CITROEN,CITROEN,CITROEN,CITROEN,CITROEN,CITROEN,CITROEN,CITROEN,CITROEN,CITROEN,CITROEN,CITROEN,CITROEN,CITROEN,CITROEN,CITROEN,CITROEN,CITROEN,CITROEN'"
      ]
     },
     "execution_count": 25,
     "metadata": {},
     "output_type": "execute_result"
    }
   ],
   "source": [
    "all_brands[:220]"
   ]
  },
  {
   "cell_type": "code",
   "execution_count": 26,
   "metadata": {},
   "outputs": [],
   "source": [
    "def paint_wordcloud(text):\n",
    "    # Create and generate a word cloud image\n",
    "    my_cloud = WordCloud(stopwords=STOPWORDS, background_color='white', collocations=False).generate(text)\n",
    "\n",
    "    # Display the generated wordcloud image\n",
    "    plt.figure(figsize=(15,10))\n",
    "    plt.imshow(my_cloud, interpolation='bilinear')  \n",
    "    plt.axis(\"off\")\n",
    "    plt.show()"
   ]
  },
  {
   "cell_type": "code",
   "execution_count": 27,
   "metadata": {},
   "outputs": [
    {
     "data": {
      "image/png": "[encoded data removed]",
      "text/plain": [
       "<Figure size 1080x720 with 1 Axes>"
      ]
     },
     "metadata": {
      "needs_background": "light"
     },
     "output_type": "display_data"
    }
   ],
   "source": [
    "paint_wordcloud(all_brands)"
   ]
  },
  {
   "cell_type": "markdown",
   "metadata": {},
   "source": [
    "- **Boxplots for target classes and several numerical features**"
   ]
  },
  {
   "cell_type": "markdown",
   "metadata": {},
   "source": [
    "Let's first  create a new column called 'Ano_Matriculacion' (year of licenceplate registration), as it willbe one feature included in the modelling. "
   ]
  },
  {
   "cell_type": "code",
   "execution_count": 28,
   "metadata": {},
   "outputs": [],
   "source": [
    "df_new['Ano_Matriculacion'] = pd.DatetimeIndex(df_new['Fecha Matriculacion']).year"
   ]
  },
  {
   "cell_type": "code",
   "execution_count": 29,
   "metadata": {},
   "outputs": [
    {
     "data": {
      "text/plain": [
       "2013    2282\n",
       "2015    2170\n",
       "2017    2026\n",
       "2014    2010\n",
       "2016    1897\n",
       "2018    1462\n",
       "2012    1426\n",
       "2011    1214\n",
       "2010     762\n",
       "2009     339\n",
       "2008      48\n",
       "2007       4\n",
       "Name: Ano_Matriculacion, dtype: int64"
      ]
     },
     "execution_count": 29,
     "metadata": {},
     "output_type": "execute_result"
    }
   ],
   "source": [
    "df_new['Ano_Matriculacion'].value_counts()"
   ]
  },
  {
   "cell_type": "code",
   "execution_count": 30,
   "metadata": {
    "scrolled": true
   },
   "outputs": [
    {
     "data": {
      "text/plain": [
       "Text(0.5, 1.0, 'Boxplots for classes and Year of license plate registration ')"
      ]
     },
     "execution_count": 30,
     "metadata": {},
     "output_type": "execute_result"
    },
    {
     "data": {
      "image/png": "[encoded data removed]",
      "text/plain": [
       "<Figure size 720x432 with 1 Axes>"
      ]
     },
     "metadata": {
      "needs_background": "light"
     },
     "output_type": "display_data"
    }
   ],
   "source": [
    "fig, ax = plt.subplots(figsize=(10,6))\n",
    "sns.boxplot(data=df_new, x='Clasificacion medioambiental', y='Ano_Matriculacion')\n",
    "ax.set_title('Boxplots for classes and Year of license plate registration ', fontsize= 18)"
   ]
  },
  {
   "cell_type": "markdown",
   "metadata": {},
   "source": [
    "As we mentioned above, DIESEL fuel type is the one with amore heterogeneus assignation of classes regarding environmental classification. Let's draw a boxplot and check if we can get any insights from it..."
   ]
  },
  {
   "cell_type": "code",
   "execution_count": 31,
   "metadata": {},
   "outputs": [],
   "source": [
    "df_diesel = df_new[df_new['Combustible'] == 'DIESEL']"
   ]
  },
  {
   "cell_type": "code",
   "execution_count": 32,
   "metadata": {
    "scrolled": false
   },
   "outputs": [
    {
     "data": {
      "text/plain": [
       "Text(0.5, 1.0, 'SOLO VEHICULOS DIESEL: Boxplots para clases y año de matriculación')"
      ]
     },
     "execution_count": 32,
     "metadata": {},
     "output_type": "execute_result"
    },
    {
     "data": {
      "image/png": "[encoded data removed]",
      "text/plain": [
       "<Figure size 720x576 with 1 Axes>"
      ]
     },
     "metadata": {
      "needs_background": "light"
     },
     "output_type": "display_data"
    }
   ],
   "source": [
    "fig, ax = plt.subplots(figsize=(10,8))\n",
    "sns.boxplot(data=df_diesel, x='Clasificacion medioambiental', y='Ano_Matriculacion')\n",
    "ax.set_title('SOLO VEHICULOS DIESEL: Boxplots para clases y año de matriculación', fontsize= 14)"
   ]
  },
  {
   "cell_type": "markdown",
   "metadata": {},
   "source": [
    "Nice insight here! Looks like for DIESEL fuel types, year of licence plate registration is important."
   ]
  },
  {
   "cell_type": "code",
   "execution_count": 33,
   "metadata": {},
   "outputs": [
    {
     "data": {
      "text/plain": [
       "Text(0.5, 1.0, 'Boxplots para clases y potencia')"
      ]
     },
     "execution_count": 33,
     "metadata": {},
     "output_type": "execute_result"
    },
    {
     "data": {
      "image/png": "[encoded data removed]",
      "text/plain": [
       "<Figure size 720x576 with 1 Axes>"
      ]
     },
     "metadata": {
      "needs_background": "light"
     },
     "output_type": "display_data"
    }
   ],
   "source": [
    "fig, ax = plt.subplots(figsize=(10,8))\n",
    "sns.boxplot(data=df_new, x='Clasificacion medioambiental', y='Potencia')\n",
    "ax.set_title('Boxplots para clases y potencia', fontsize= 18)"
   ]
  },
  {
   "cell_type": "code",
   "execution_count": 34,
   "metadata": {},
   "outputs": [
    {
     "data": {
      "text/plain": [
       "Text(0.5, 1.0, 'Boxplots para clases y Cilindrada')"
      ]
     },
     "execution_count": 34,
     "metadata": {},
     "output_type": "execute_result"
    },
    {
     "data": {
      "image/png": "[encoded data removed]",
      "text/plain": [
       "<Figure size 720x576 with 1 Axes>"
      ]
     },
     "metadata": {
      "needs_background": "light"
     },
     "output_type": "display_data"
    }
   ],
   "source": [
    "fig, ax = plt.subplots(figsize=(10,8))\n",
    "sns.boxplot(data=df_new, x='Clasificacion medioambiental', y='Cilindrada')\n",
    "ax.set_title('Boxplots para clases y Cilindrada', fontsize= 18)"
   ]
  },
  {
   "cell_type": "markdown",
   "metadata": {},
   "source": [
    "- **Correlation matrix for our numerical features**\n",
    "\n",
    "We will construct a function which allows us to do the same procedure for different datasets:"
   ]
  },
  {
   "cell_type": "code",
   "execution_count": 35,
   "metadata": {},
   "outputs": [],
   "source": [
    "def get_correlation_matrix(data, method_corr):\n",
    "    numerical_variables = list(data.select_dtypes(include=['float64', 'int64']).columns)\n",
    "    data_num = data[numerical_variables].copy()\n",
    "    corr_numbers = data_num.corr(method = method_corr)\n",
    "    n = len(numerical_variables)\n",
    "    fig, ax = plt.subplots(figsize=(8,8))\n",
    "\n",
    "    sns.heatmap(corr_numbers,\n",
    "                annot = True,\n",
    "                square=True,\n",
    "                linewidth=1,# space between cells\n",
    "                cmap=\"BrBG\", \n",
    "                cbar_kws={'fraction' : 0.03}, # shrink colour bar\n",
    "                ax = ax);\n",
    "    ax.set(ylim=(0, n));\n",
    "    ax.set_title(method_corr.capitalize() +\" correlation coefficient: variables numéricas\", fontsize=15);"
   ]
  },
  {
   "cell_type": "code",
   "execution_count": 36,
   "metadata": {},
   "outputs": [
    {
     "data": {
      "image/png": "[encoded data removed]",
      "text/plain": [
       "<Figure size 576x576 with 2 Axes>"
      ]
     },
     "metadata": {
      "needs_background": "light"
     },
     "output_type": "display_data"
    }
   ],
   "source": [
    "get_correlation_matrix(df_new, 'spearman')"
   ]
  },
  {
   "cell_type": "markdown",
   "metadata": {},
   "source": [
    "Not much information contained here in chart above..."
   ]
  },
  {
   "cell_type": "markdown",
   "metadata": {},
   "source": [
    "### Conclusions from EDA and data preparation for modeling"
   ]
  },
  {
   "cell_type": "code",
   "execution_count": 37,
   "metadata": {},
   "outputs": [
    {
     "data": {
      "text/plain": [
       "ECO    7064\n",
       "B      4858\n",
       "C      3701\n",
       "0        17\n",
       "Name: Clasificacion medioambiental, dtype: int64"
      ]
     },
     "execution_count": 37,
     "metadata": {},
     "output_type": "execute_result"
    }
   ],
   "source": [
    "df_new['Clasificacion medioambiental'].value_counts()"
   ]
  },
  {
   "cell_type": "markdown",
   "metadata": {},
   "source": [
    "We note that besides the '0' class that has only 17 vehicles, all other classes have significant amount of datapoint to work with. From obove charts, we also see that all electric cars have '0' class, and '0' class is only given if fuel type is electric (1 to 1). So the best we can do here is apply a two step model when deploying this model into production.\n",
    "\n",
    "1. **First Step**: Check fuel type. \n",
    "    - If this is 'ELECTRICO', assign '0' class and stop algorithm. \n",
    "    - If this is 'GASOLINA', assign 'C' class and stop algorithm. \n",
    "    - If this is 'GASOLINA/ELECTRICIDAD', assign 'ECO' class and stop algorithm. \n",
    "    - If this is 'GASOLINA - GAS NATURAL', assign 'ECO' class and stop algorithm. \n",
    "    - If this is 'GLP/GASOLINA', assign 'ECO' class and stop algorithm. \n",
    "    - Else, go to Step 2.\n",
    "\n",
    "1. **Second Step**: Apply chosen model to predict class, be it 'ECO', 'B' or 'C'.\n",
    "\n",
    "So let's drop all rows containing '0' class, let's drop rows with fuel types 'GASOLINA', wich will be assigned 'C' class, and also remove rows with fuel types 'GASOLINA-ELECTRICIDAD', 'GASOLINA - GAS NATURAL' or 'GLP/GASOLINA', because they are going to be assigned directly the 'ECO' Class.\n"
   ]
  },
  {
   "cell_type": "code",
   "execution_count": 38,
   "metadata": {},
   "outputs": [],
   "source": [
    "# Dropping all rows with '0' class\n",
    "df_new2 = df_new[df_new['Clasificacion medioambiental'] != '0']"
   ]
  },
  {
   "cell_type": "code",
   "execution_count": 39,
   "metadata": {},
   "outputs": [
    {
     "data": {
      "text/plain": [
       "DIESEL                       8509\n",
       "GASOLINA-ELECTRICIDAD        4169\n",
       "GLP / GASOLINA               2566\n",
       "GASOLINA - GAS NATURAL        327\n",
       "GASOLINA TRANSFORMADO GLP      46\n",
       "GASOLINA                        6\n",
       "Name: Combustible, dtype: int64"
      ]
     },
     "execution_count": 39,
     "metadata": {},
     "output_type": "execute_result"
    }
   ],
   "source": [
    "df_new2['Combustible'].value_counts()"
   ]
  },
  {
   "cell_type": "code",
   "execution_count": 40,
   "metadata": {},
   "outputs": [],
   "source": [
    "# Making a list to keep fuel types 'DIESEL', 'GASOLINA TRANSFORMADO GLP'\n",
    "fuel_types_to_keep = ['DIESEL', 'GASOLINA TRANSFORMADO GLP']"
   ]
  },
  {
   "cell_type": "code",
   "execution_count": 41,
   "metadata": {},
   "outputs": [],
   "source": [
    "df_new2 = df_new2[df_new2['Combustible'].isin(fuel_types_to_keep)]"
   ]
  },
  {
   "cell_type": "code",
   "execution_count": 42,
   "metadata": {},
   "outputs": [
    {
     "data": {
      "text/plain": [
       "DIESEL                       8509\n",
       "GASOLINA TRANSFORMADO GLP      46\n",
       "Name: Combustible, dtype: int64"
      ]
     },
     "execution_count": 42,
     "metadata": {},
     "output_type": "execute_result"
    }
   ],
   "source": [
    "df_new2['Combustible'].value_counts()"
   ]
  },
  {
   "cell_type": "code",
   "execution_count": 43,
   "metadata": {
    "scrolled": true
   },
   "outputs": [
    {
     "data": {
      "text/plain": [
       "B      4858\n",
       "C      3695\n",
       "ECO       2\n",
       "Name: Clasificacion medioambiental, dtype: int64"
      ]
     },
     "execution_count": 43,
     "metadata": {},
     "output_type": "execute_result"
    }
   ],
   "source": [
    "df_new2['Clasificacion medioambiental'].value_counts()"
   ]
  },
  {
   "cell_type": "markdown",
   "metadata": {},
   "source": [
    "Ok, we have now a pretty unbalanced class here to wotk with. Class 'ECO'. Let's keep it for now, and wait to see how modeling behaves before dropping these two rows and directly assigning 'ECO' class to all 'GASOLINA TRANSFORMADO GLP' fuel types, as 44 out of 46 rows are classified as ECO (96% accuracy)"
   ]
  },
  {
   "cell_type": "code",
   "execution_count": 44,
   "metadata": {},
   "outputs": [
    {
     "data": {
      "text/plain": [
       "(8555, 19)"
      ]
     },
     "execution_count": 44,
     "metadata": {},
     "output_type": "execute_result"
    }
   ],
   "source": [
    "df_new2.shape"
   ]
  },
  {
   "cell_type": "markdown",
   "metadata": {},
   "source": [
    "We had an original dataset with 15640 vehicles, and by removing those vehicles that we can classify with 100% accuracy, we end with a dataset with 2 classes to predict ('B' or 'C'), the year of licence plate registration, and two fuel types ('DIESEL', 'GASOLINA TRANSFORMADO GLP'), leaving us with a dataset with 8555 rows. That means that for now, without applying Machine Learning models, we can predict with 100% accuracy the Class if fuel type is among the previoulsy mentioned list, and that happens for 7085 rows, so than means we have right now a 45% accuracy (7085/15640) without applying ML."
   ]
  },
  {
   "cell_type": "markdown",
   "metadata": {},
   "source": [
    "- **One hot encoding for Categorical Variables (Fuel type).**\n",
    "\n",
    "In this version of the ScikitLibrary we are using, we need to transform categorical to numerical variables such as 'Combustible' (Fuel type), transformig this feature into as many columns as different values it has, and assigning each row a 1 ora 0 to these new created columns accordingly."
   ]
  },
  {
   "cell_type": "code",
   "execution_count": 45,
   "metadata": {},
   "outputs": [],
   "source": [
    "combust_dummy = pd.get_dummies(df_new2['Combustible'], prefix=\"Combustible\")\n",
    "df_new2 = pd.concat([df_new2,combust_dummy], axis=1)"
   ]
  },
  {
   "cell_type": "code",
   "execution_count": 46,
   "metadata": {},
   "outputs": [
    {
     "data": {
      "text/html": [
       "<div>\n",
       "<style scoped>\n",
       "    .dataframe tbody tr th:only-of-type {\n",
       "        vertical-align: middle;\n",
       "    }\n",
       "\n",
       "    .dataframe tbody tr th {\n",
       "        vertical-align: top;\n",
       "    }\n",
       "\n",
       "    .dataframe thead th {\n",
       "        text-align: right;\n",
       "    }\n",
       "</style>\n",
       "<table border=\"1\" class=\"dataframe\">\n",
       "  <thead>\n",
       "    <tr style=\"text-align: right;\">\n",
       "      <th></th>\n",
       "      <th>Codigo</th>\n",
       "      <th>Matricula</th>\n",
       "      <th>Fecha Matriculacion</th>\n",
       "      <th>Marca</th>\n",
       "      <th>Modelo</th>\n",
       "      <th>Tipo</th>\n",
       "      <th>Variante</th>\n",
       "      <th>Clasificacion medioambiental</th>\n",
       "      <th>Combustible</th>\n",
       "      <th>Cilindrada</th>\n",
       "      <th>...</th>\n",
       "      <th>Numero de Plazas</th>\n",
       "      <th>Fecha inicio de prestacion del servicio de taxi</th>\n",
       "      <th>Eurotaxi</th>\n",
       "      <th>Regimen Especial de Eurotaxi</th>\n",
       "      <th>Fecha inicio Regimen Especial Eurotaxi</th>\n",
       "      <th>Fecha fin Regimen Especial Eurotaxi</th>\n",
       "      <th>Fecha</th>\n",
       "      <th>Ano_Matriculacion</th>\n",
       "      <th>Combustible_DIESEL</th>\n",
       "      <th>Combustible_GASOLINA TRANSFORMADO GLP</th>\n",
       "    </tr>\n",
       "  </thead>\n",
       "  <tbody>\n",
       "    <tr>\n",
       "      <th>31278</th>\n",
       "      <td>1198109</td>\n",
       "      <td>0800GZC</td>\n",
       "      <td>2010-10-18</td>\n",
       "      <td>CHEVROLET</td>\n",
       "      <td>EPICA</td>\n",
       "      <td>KLAL</td>\n",
       "      <td>LV3/134</td>\n",
       "      <td>B</td>\n",
       "      <td>DIESEL</td>\n",
       "      <td>1991</td>\n",
       "      <td>...</td>\n",
       "      <td>5</td>\n",
       "      <td>2010-10-25</td>\n",
       "      <td>NO</td>\n",
       "      <td>NO</td>\n",
       "      <td>NaT</td>\n",
       "      <td>NaT</td>\n",
       "      <td>2018-09-29</td>\n",
       "      <td>2010</td>\n",
       "      <td>1</td>\n",
       "      <td>0</td>\n",
       "    </tr>\n",
       "    <tr>\n",
       "      <th>31279</th>\n",
       "      <td>1196804</td>\n",
       "      <td>7686GYS</td>\n",
       "      <td>2010-09-23</td>\n",
       "      <td>CHEVROLET</td>\n",
       "      <td>EPICA</td>\n",
       "      <td>KLAL</td>\n",
       "      <td>LV1/111</td>\n",
       "      <td>C</td>\n",
       "      <td>GASOLINA TRANSFORMADO GLP</td>\n",
       "      <td>1993</td>\n",
       "      <td>...</td>\n",
       "      <td>5</td>\n",
       "      <td>2010-04-10</td>\n",
       "      <td>NO</td>\n",
       "      <td>NO</td>\n",
       "      <td>NaT</td>\n",
       "      <td>NaT</td>\n",
       "      <td>2018-09-29</td>\n",
       "      <td>2010</td>\n",
       "      <td>0</td>\n",
       "      <td>1</td>\n",
       "    </tr>\n",
       "    <tr>\n",
       "      <th>31280</th>\n",
       "      <td>1182347</td>\n",
       "      <td>5440GTD</td>\n",
       "      <td>2010-02-02</td>\n",
       "      <td>CHEVROLET</td>\n",
       "      <td>EPICA</td>\n",
       "      <td>KLAL</td>\n",
       "      <td>LV3/134</td>\n",
       "      <td>B</td>\n",
       "      <td>DIESEL</td>\n",
       "      <td>1991</td>\n",
       "      <td>...</td>\n",
       "      <td>5</td>\n",
       "      <td>2010-04-02</td>\n",
       "      <td>NO</td>\n",
       "      <td>NO</td>\n",
       "      <td>NaT</td>\n",
       "      <td>NaT</td>\n",
       "      <td>2018-09-29</td>\n",
       "      <td>2010</td>\n",
       "      <td>1</td>\n",
       "      <td>0</td>\n",
       "    </tr>\n",
       "    <tr>\n",
       "      <th>31281</th>\n",
       "      <td>1189908</td>\n",
       "      <td>3259GWN</td>\n",
       "      <td>2010-05-21</td>\n",
       "      <td>CHEVROLET</td>\n",
       "      <td>EPICA</td>\n",
       "      <td>KLAL</td>\n",
       "      <td>LV3/134</td>\n",
       "      <td>B</td>\n",
       "      <td>DIESEL</td>\n",
       "      <td>1991</td>\n",
       "      <td>...</td>\n",
       "      <td>5</td>\n",
       "      <td>2010-05-24</td>\n",
       "      <td>NO</td>\n",
       "      <td>NO</td>\n",
       "      <td>NaT</td>\n",
       "      <td>NaT</td>\n",
       "      <td>2018-09-29</td>\n",
       "      <td>2010</td>\n",
       "      <td>1</td>\n",
       "      <td>0</td>\n",
       "    </tr>\n",
       "    <tr>\n",
       "      <th>31282</th>\n",
       "      <td>1194793</td>\n",
       "      <td>2463GYJ</td>\n",
       "      <td>2010-08-18</td>\n",
       "      <td>CHEVROLET</td>\n",
       "      <td>EPICA</td>\n",
       "      <td>KLAL</td>\n",
       "      <td>LV3/134</td>\n",
       "      <td>B</td>\n",
       "      <td>DIESEL</td>\n",
       "      <td>1991</td>\n",
       "      <td>...</td>\n",
       "      <td>5</td>\n",
       "      <td>2010-08-19</td>\n",
       "      <td>NO</td>\n",
       "      <td>NO</td>\n",
       "      <td>NaT</td>\n",
       "      <td>NaT</td>\n",
       "      <td>2018-09-29</td>\n",
       "      <td>2010</td>\n",
       "      <td>1</td>\n",
       "      <td>0</td>\n",
       "    </tr>\n",
       "  </tbody>\n",
       "</table>\n",
       "<p>5 rows × 21 columns</p>\n",
       "</div>"
      ],
      "text/plain": [
       "        Codigo Matricula Fecha Matriculacion      Marca Modelo  Tipo Variante  \\\n",
       "31278  1198109   0800GZC          2010-10-18  CHEVROLET  EPICA  KLAL  LV3/134   \n",
       "31279  1196804   7686GYS          2010-09-23  CHEVROLET  EPICA  KLAL  LV1/111   \n",
       "31280  1182347   5440GTD          2010-02-02  CHEVROLET  EPICA  KLAL  LV3/134   \n",
       "31281  1189908   3259GWN          2010-05-21  CHEVROLET  EPICA  KLAL  LV3/134   \n",
       "31282  1194793   2463GYJ          2010-08-18  CHEVROLET  EPICA  KLAL  LV3/134   \n",
       "\n",
       "      Clasificacion medioambiental                Combustible  Cilindrada  \\\n",
       "31278                            B                     DIESEL        1991   \n",
       "31279                            C  GASOLINA TRANSFORMADO GLP        1993   \n",
       "31280                            B                     DIESEL        1991   \n",
       "31281                            B                     DIESEL        1991   \n",
       "31282                            B                     DIESEL        1991   \n",
       "\n",
       "       ...  Numero de Plazas Fecha inicio de prestacion del servicio de taxi  \\\n",
       "31278  ...                 5                                      2010-10-25   \n",
       "31279  ...                 5                                      2010-04-10   \n",
       "31280  ...                 5                                      2010-04-02   \n",
       "31281  ...                 5                                      2010-05-24   \n",
       "31282  ...                 5                                      2010-08-19   \n",
       "\n",
       "      Eurotaxi Regimen Especial de Eurotaxi  \\\n",
       "31278       NO                           NO   \n",
       "31279       NO                           NO   \n",
       "31280       NO                           NO   \n",
       "31281       NO                           NO   \n",
       "31282       NO                           NO   \n",
       "\n",
       "      Fecha inicio Regimen Especial Eurotaxi  \\\n",
       "31278                                    NaT   \n",
       "31279                                    NaT   \n",
       "31280                                    NaT   \n",
       "31281                                    NaT   \n",
       "31282                                    NaT   \n",
       "\n",
       "      Fecha fin Regimen Especial Eurotaxi      Fecha Ano_Matriculacion  \\\n",
       "31278                                 NaT 2018-09-29              2010   \n",
       "31279                                 NaT 2018-09-29              2010   \n",
       "31280                                 NaT 2018-09-29              2010   \n",
       "31281                                 NaT 2018-09-29              2010   \n",
       "31282                                 NaT 2018-09-29              2010   \n",
       "\n",
       "       Combustible_DIESEL  Combustible_GASOLINA TRANSFORMADO GLP  \n",
       "31278                   1                                      0  \n",
       "31279                   0                                      1  \n",
       "31280                   1                                      0  \n",
       "31281                   1                                      0  \n",
       "31282                   1                                      0  \n",
       "\n",
       "[5 rows x 21 columns]"
      ]
     },
     "execution_count": 46,
     "metadata": {},
     "output_type": "execute_result"
    }
   ],
   "source": [
    "df_new2.head()"
   ]
  },
  {
   "cell_type": "markdown",
   "metadata": {},
   "source": [
    "## <a name=\"section3\"> 3. Classification models </a>"
   ]
  },
  {
   "cell_type": "markdown",
   "metadata": {},
   "source": [
    "Let's first define the features and target we will use for modeling and assign them to *X* and *y* dataframes."
   ]
  },
  {
   "cell_type": "code",
   "execution_count": 47,
   "metadata": {},
   "outputs": [
    {
     "data": {
      "text/plain": [
       "Index(['Codigo', 'Matricula', 'Fecha Matriculacion', 'Marca', 'Modelo', 'Tipo',\n",
       "       'Variante', 'Clasificacion medioambiental', 'Combustible', 'Cilindrada',\n",
       "       'Potencia', 'Numero de Plazas',\n",
       "       'Fecha inicio de prestacion del servicio de taxi', 'Eurotaxi',\n",
       "       'Regimen Especial de Eurotaxi',\n",
       "       'Fecha inicio Regimen Especial Eurotaxi',\n",
       "       'Fecha fin Regimen Especial Eurotaxi', 'Fecha', 'Ano_Matriculacion',\n",
       "       'Combustible_DIESEL', 'Combustible_GASOLINA TRANSFORMADO GLP'],\n",
       "      dtype='object')"
      ]
     },
     "execution_count": 47,
     "metadata": {},
     "output_type": "execute_result"
    }
   ],
   "source": [
    "df_new2.columns"
   ]
  },
  {
   "cell_type": "code",
   "execution_count": 48,
   "metadata": {},
   "outputs": [
    {
     "data": {
      "text/plain": [
       "B      4858\n",
       "C      3695\n",
       "ECO       2\n",
       "Name: Clasificacion medioambiental, dtype: int64"
      ]
     },
     "execution_count": 48,
     "metadata": {},
     "output_type": "execute_result"
    }
   ],
   "source": [
    "df_new2['Clasificacion medioambiental'].value_counts()"
   ]
  },
  {
   "cell_type": "code",
   "execution_count": 49,
   "metadata": {},
   "outputs": [],
   "source": [
    "# defining features and target for later modelling\n",
    "features = [ 'Combustible_DIESEL', 'Combustible_GASOLINA TRANSFORMADO GLP', 'Ano_Matriculacion']\n",
    "target = ['Clasificacion medioambiental']"
   ]
  },
  {
   "cell_type": "code",
   "execution_count": 50,
   "metadata": {},
   "outputs": [],
   "source": [
    "X = df_new2[features]\n",
    "y = df_new2[target]"
   ]
  },
  {
   "cell_type": "code",
   "execution_count": 51,
   "metadata": {},
   "outputs": [
    {
     "data": {
      "text/plain": [
       "Clasificacion medioambiental    3\n",
       "dtype: int64"
      ]
     },
     "execution_count": 51,
     "metadata": {},
     "output_type": "execute_result"
    }
   ],
   "source": [
    "y.nunique()"
   ]
  },
  {
   "cell_type": "code",
   "execution_count": 52,
   "metadata": {},
   "outputs": [
    {
     "data": {
      "text/plain": [
       "(8555, 3)"
      ]
     },
     "execution_count": 52,
     "metadata": {},
     "output_type": "execute_result"
    }
   ],
   "source": [
    "X.shape"
   ]
  },
  {
   "cell_type": "code",
   "execution_count": 53,
   "metadata": {},
   "outputs": [
    {
     "data": {
      "text/plain": [
       "(8555, 1)"
      ]
     },
     "execution_count": 53,
     "metadata": {},
     "output_type": "execute_result"
    }
   ],
   "source": [
    "y.shape"
   ]
  },
  {
   "cell_type": "code",
   "execution_count": 54,
   "metadata": {},
   "outputs": [],
   "source": [
    "# Applying train/test split\n",
    "X_train, X_test, y_train, y_test = train_test_split(X, y, test_size=0.3, random_state=123)"
   ]
  },
  {
   "cell_type": "markdown",
   "metadata": {},
   "source": [
    "### 3.1 Random Forest Classifier"
   ]
  },
  {
   "cell_type": "code",
   "execution_count": 55,
   "metadata": {},
   "outputs": [],
   "source": [
    "#instanciating our model\n",
    "RFC = RandomForestClassifier(n_estimators=10, random_state=123)"
   ]
  },
  {
   "cell_type": "code",
   "execution_count": 56,
   "metadata": {},
   "outputs": [
    {
     "data": {
      "text/plain": [
       "RandomForestClassifier(bootstrap=True, ccp_alpha=0.0, class_weight=None,\n",
       "                       criterion='gini', max_depth=None, max_features='auto',\n",
       "                       max_leaf_nodes=None, max_samples=None,\n",
       "                       min_impurity_decrease=0.0, min_impurity_split=None,\n",
       "                       min_samples_leaf=1, min_samples_split=2,\n",
       "                       min_weight_fraction_leaf=0.0, n_estimators=10,\n",
       "                       n_jobs=None, oob_score=False, random_state=123,\n",
       "                       verbose=0, warm_start=False)"
      ]
     },
     "execution_count": 56,
     "metadata": {},
     "output_type": "execute_result"
    }
   ],
   "source": [
    "RFC.fit(X_train,y_train)"
   ]
  },
  {
   "cell_type": "code",
   "execution_count": 57,
   "metadata": {},
   "outputs": [],
   "source": [
    "y_pred = RFC.predict(X_test)"
   ]
  },
  {
   "cell_type": "code",
   "execution_count": 58,
   "metadata": {},
   "outputs": [
    {
     "name": "stdout",
     "output_type": "stream",
     "text": [
      "y unique values =       ['B' 'C' 'ECO']\n",
      "y_pred unique values =  ['B' 'C']\n"
     ]
    }
   ],
   "source": [
    "print(\"y unique values =      \", np.unique(y))\n",
    "print(\"y_pred unique values = \",np.unique(y_pred))"
   ]
  },
  {
   "cell_type": "markdown",
   "metadata": {},
   "source": [
    "Note that those rows with ECO fuel type are not present in our predicted values (there were 2 at the most)."
   ]
  },
  {
   "cell_type": "code",
   "execution_count": 59,
   "metadata": {},
   "outputs": [
    {
     "data": {
      "text/plain": [
       "array([[1445,   36],\n",
       "       [  37, 1049]], dtype=int64)"
      ]
     },
     "execution_count": 59,
     "metadata": {},
     "output_type": "execute_result"
    }
   ],
   "source": [
    "cf_matrix = confusion_matrix(y_pred, y_test)\n",
    "cf_matrix"
   ]
  },
  {
   "cell_type": "markdown",
   "metadata": {},
   "source": [
    "Let's define a function to show the results of the models we try from now on."
   ]
  },
  {
   "cell_type": "code",
   "execution_count": 60,
   "metadata": {},
   "outputs": [],
   "source": [
    "def show_model_results(model_name, y_pred, y_test):\n",
    "\n",
    "    print(\"***** Results for model = {}\".format(model_name))\n",
    "    print(\"------------------------------------------------------\")\n",
    "\n",
    "    #plot Confusion matrix \n",
    "    cf_matrix = confusion_matrix(y_pred, y_test)\n",
    "    ax= plt.subplot()\n",
    "    sns.heatmap(cf_matrix, annot=True, cmap='mako_r',ax = ax, fmt='g'); #annot=True to annotate cells\n",
    "\n",
    "    # labels, title and ticks\n",
    "    ax.set_xlabel('Predicted labels');ax.set_ylabel('True labels'); \n",
    "    ax.set_title('Confusion Matrix'); \n",
    "    ax.xaxis.set_ticklabels(['B', 'C']); ax.yaxis.set_ticklabels(['B', 'C']);\n",
    "\n",
    "    \n",
    "    accuracy = accuracy_score(y_test, y_pred)  # (TP + TN) / (TP+TN+FP+FN)\n",
    "    print(\"Accuracy of the model = {}\".format(round(accuracy,3)))\n",
    "    print(\"------------------------------------------------------\")\n",
    "\n",
    "    # Checking accuracy, precision and recall. \n",
    "    #TP= True Positive, FP= False Positive, TN = True Negative, FN = False Negative\n",
    "\n",
    "    precision, recall, fscore, support = score(y_test, y_pred)\n",
    "\n",
    "    print('Precision for classes B and C: {}'.format(np.round(precision,3))) # (TP)/(TP+FP), for each class\n",
    "    print('Recall for classes B and C: {}'.format(np.round(recall,3))) # (TP)/(TP+FN), for each class\n",
    "    print('F1-score for classes B and C: {}'.format(np.round(fscore,3))) #f1 score (harmonic mean of precision and recall = 2* (precision*recall)/(precision+recall))\n",
    "    print('Support for classes B and C: {}'.format(np.round(support,0))) # The support is the number of occurrences of each class in y_true\n",
    "    \n",
    "    print(\"======================================================\")\n",
    "\n",
    "    return"
   ]
  },
  {
   "cell_type": "code",
   "execution_count": 61,
   "metadata": {},
   "outputs": [
    {
     "name": "stdout",
     "output_type": "stream",
     "text": [
      "***** Results for model = RFC\n",
      "------------------------------------------------------\n",
      "Accuracy of the model = 0.972\n",
      "------------------------------------------------------\n",
      "Precision for classes B and C: [0.976 0.966]\n",
      "Recall for classes B and C: [0.975 0.967]\n",
      "F1-score for classes B and C: [0.975 0.966]\n",
      "Support for classes B and C: [1482 1085]\n",
      "======================================================\n"
     ]
    },
    {
     "data": {
      "image/png": "[encoded data removed]",
      "text/plain": [
       "<Figure size 432x288 with 2 Axes>"
      ]
     },
     "metadata": {
      "needs_background": "light"
     },
     "output_type": "display_data"
    }
   ],
   "source": [
    "show_model_results('RFC', y_pred, y_test)"
   ]
  },
  {
   "cell_type": "code",
   "execution_count": 62,
   "metadata": {},
   "outputs": [
    {
     "name": "stdout",
     "output_type": "stream",
     "text": [
      "Cross Validation Score = accuracy mean = 0.9695\n"
     ]
    }
   ],
   "source": [
    "# Checking also accuracy using cross-validation:\n",
    "cvs = cross_val_score(RFC, X, y, scoring= 'accuracy', cv=3).mean()\n",
    "print(\"Cross Validation Score = accuracy mean = {}\".format(round(cvs,4)))"
   ]
  },
  {
   "cell_type": "markdown",
   "metadata": {},
   "source": [
    "We have a good model here. \n",
    "Note: Remember that from modelling we discarded a lot of observations because we could predict with 100% accuracy the class depending on fuel type (for fuel types = GASOLINA', 'GASOLINA-GAS NATURAL','GASOLINA-ELECTRICIDAD','GLP/GASOLINA')"
   ]
  },
  {
   "cell_type": "markdown",
   "metadata": {},
   "source": [
    "### 3.2 Decision Tree Classifier"
   ]
  },
  {
   "cell_type": "code",
   "execution_count": 63,
   "metadata": {},
   "outputs": [],
   "source": [
    "DTC = DecisionTreeClassifier(random_state=123)"
   ]
  },
  {
   "cell_type": "code",
   "execution_count": 64,
   "metadata": {
    "scrolled": true
   },
   "outputs": [
    {
     "data": {
      "text/plain": [
       "DecisionTreeClassifier(ccp_alpha=0.0, class_weight=None, criterion='gini',\n",
       "                       max_depth=None, max_features=None, max_leaf_nodes=None,\n",
       "                       min_impurity_decrease=0.0, min_impurity_split=None,\n",
       "                       min_samples_leaf=1, min_samples_split=2,\n",
       "                       min_weight_fraction_leaf=0.0, presort='deprecated',\n",
       "                       random_state=123, splitter='best')"
      ]
     },
     "execution_count": 64,
     "metadata": {},
     "output_type": "execute_result"
    }
   ],
   "source": [
    "DTC.fit(X_train,y_train)"
   ]
  },
  {
   "cell_type": "code",
   "execution_count": 65,
   "metadata": {},
   "outputs": [],
   "source": [
    "y_pred = DTC.predict(X_test)"
   ]
  },
  {
   "cell_type": "code",
   "execution_count": 66,
   "metadata": {},
   "outputs": [
    {
     "name": "stdout",
     "output_type": "stream",
     "text": [
      "y unique values =       ['B' 'C' 'ECO']\n",
      "y_pred unique values =  ['B' 'C']\n"
     ]
    }
   ],
   "source": [
    "print(\"y unique values =      \", np.unique(y))\n",
    "print(\"y_pred unique values = \",np.unique(y_pred))"
   ]
  },
  {
   "cell_type": "code",
   "execution_count": 67,
   "metadata": {
    "scrolled": true
   },
   "outputs": [
    {
     "name": "stdout",
     "output_type": "stream",
     "text": [
      "***** Results for model = DECISION TREE CLASSIFIER\n",
      "------------------------------------------------------\n",
      "Accuracy of the model = 0.972\n",
      "------------------------------------------------------\n",
      "Precision for classes B and C: [0.976 0.966]\n",
      "Recall for classes B and C: [0.975 0.967]\n",
      "F1-score for classes B and C: [0.975 0.966]\n",
      "Support for classes B and C: [1482 1085]\n",
      "======================================================\n"
     ]
    },
    {
     "data": {
      "image/png": "[encoded data removed]",
      "text/plain": [
       "<Figure size 432x288 with 2 Axes>"
      ]
     },
     "metadata": {
      "needs_background": "light"
     },
     "output_type": "display_data"
    }
   ],
   "source": [
    "show_model_results(\"DECISION TREE CLASSIFIER\", y_pred, y_test)"
   ]
  },
  {
   "cell_type": "code",
   "execution_count": 68,
   "metadata": {},
   "outputs": [
    {
     "name": "stdout",
     "output_type": "stream",
     "text": [
      "Cross Validation Score = accuracy mean = 0.9696\n"
     ]
    }
   ],
   "source": [
    "# Checking also accuracy using cross-validation:\n",
    "cvs = cross_val_score(DTC, X, y, scoring= 'accuracy', cv=3).mean()\n",
    "print(\"Cross Validation Score = accuracy mean = {}\".format(round(cvs,4)))"
   ]
  },
  {
   "cell_type": "markdown",
   "metadata": {},
   "source": [
    "As the Decision Tree Classifier (DTC) is al algorithm that uses a similar approach than Random Forest, this could explain the similarity of results obtained."
   ]
  },
  {
   "cell_type": "code",
   "execution_count": 72,
   "metadata": {},
   "outputs": [
    {
     "data": {
      "image/png": "[encoded data removed]",
      "text/plain": [
       "<Figure size 1080x720 with 1 Axes>"
      ]
     },
     "metadata": {
      "needs_background": "light"
     },
     "output_type": "display_data"
    }
   ],
   "source": [
    "from sklearn import tree\n",
    "\n",
    "fig, ax = plt.subplots(figsize=(15, 10))  # whatever size you want\n",
    "tree.plot_tree(DTC, filled=True, ax=ax)\n",
    "plt.show()"
   ]
  },
  {
   "cell_type": "markdown",
   "metadata": {},
   "source": [
    "### 3.3 Support Vector Machines"
   ]
  },
  {
   "cell_type": "code",
   "execution_count": 68,
   "metadata": {},
   "outputs": [],
   "source": [
    "SVC_model = SVC(kernel=\"linear\", C=0.025, random_state=123)"
   ]
  },
  {
   "cell_type": "code",
   "execution_count": 69,
   "metadata": {},
   "outputs": [
    {
     "data": {
      "text/plain": [
       "SVC(C=0.025, break_ties=False, cache_size=200, class_weight=None, coef0=0.0,\n",
       "    decision_function_shape='ovr', degree=3, gamma='scale', kernel='linear',\n",
       "    max_iter=-1, probability=False, random_state=123, shrinking=True, tol=0.001,\n",
       "    verbose=False)"
      ]
     },
     "execution_count": 69,
     "metadata": {},
     "output_type": "execute_result"
    }
   ],
   "source": [
    "SVC_model.fit(X_train,y_train)"
   ]
  },
  {
   "cell_type": "code",
   "execution_count": 70,
   "metadata": {},
   "outputs": [],
   "source": [
    "y_pred = SVC_model.predict(X_test)"
   ]
  },
  {
   "cell_type": "code",
   "execution_count": 71,
   "metadata": {},
   "outputs": [
    {
     "name": "stdout",
     "output_type": "stream",
     "text": [
      "y unique values =       ['B' 'C' 'ECO']\n",
      "y_pred unique values =  ['B' 'C']\n"
     ]
    }
   ],
   "source": [
    "print(\"y unique values =      \", np.unique(y))\n",
    "print(\"y_pred unique values = \",np.unique(y_pred))"
   ]
  },
  {
   "cell_type": "code",
   "execution_count": 72,
   "metadata": {},
   "outputs": [
    {
     "name": "stdout",
     "output_type": "stream",
     "text": [
      "***** Results for model = SUPPORT VECTOR MACHINE CLASSIFIER\n",
      "------------------------------------------------------\n",
      "Accuracy of the model = 0.967\n",
      "------------------------------------------------------\n",
      "Precision for classes B and C: [0.968 0.966]\n",
      "Recall for classes B and C: [0.975 0.957]\n",
      "F1-score for classes B and C: [0.972 0.961]\n",
      "Support for classes B and C: [1482 1085]\n",
      "======================================================\n"
     ]
    },
    {
     "data": {
      "image/png": "[encoded data removed]",
      "text/plain": [
       "<Figure size 432x288 with 2 Axes>"
      ]
     },
     "metadata": {
      "needs_background": "light"
     },
     "output_type": "display_data"
    }
   ],
   "source": [
    "show_model_results(\"SUPPORT VECTOR MACHINE CLASSIFIER\", y_pred, y_test)"
   ]
  },
  {
   "cell_type": "code",
   "execution_count": 73,
   "metadata": {},
   "outputs": [
    {
     "name": "stdout",
     "output_type": "stream",
     "text": [
      "Cross Validation Score = accuracy mean = 0.9643\n"
     ]
    }
   ],
   "source": [
    "# Checking also accuracy using cross-validation:\n",
    "cvs = cross_val_score(SVC_model, X, y, scoring= 'accuracy', cv=3).mean()\n",
    "print(\"Cross Validation Score = accuracy mean = {}\".format(round(cvs,4)))"
   ]
  },
  {
   "cell_type": "markdown",
   "metadata": {},
   "source": [
    "Note:Accuracy score for SVM are an average of precision, not the formula mentioned is the function above. \n",
    "See documentation in: https://scikit-learn.org/stable/modules/generated/sklearn.svm.SVC.html#sklearn.svm.SVC \n",
    "\n",
    "We can see that this scores a bit lower than the decision tree classifiers. We used linear kernel when instantiating the model. Let's try with another kernel, like 'rbf' (radial basis function)."
   ]
  },
  {
   "cell_type": "code",
   "execution_count": 74,
   "metadata": {},
   "outputs": [
    {
     "name": "stdout",
     "output_type": "stream",
     "text": [
      "y unique values =       ['B' 'C' 'ECO']\n",
      "y_pred unique values =  ['B']\n"
     ]
    }
   ],
   "source": [
    "SVC_model2 = SVC(kernel=\"rbf\", C=0.025, random_state=123)\n",
    "SVC_model2.fit(X_train,y_train)\n",
    "y_pred = SVC_model2.predict(X_test)\n",
    "print(\"y unique values =      \", np.unique(y))\n",
    "print(\"y_pred unique values = \",np.unique(y_pred))"
   ]
  },
  {
   "cell_type": "code",
   "execution_count": 75,
   "metadata": {},
   "outputs": [
    {
     "name": "stdout",
     "output_type": "stream",
     "text": [
      "***** Results for model = SUPPORT VECTOR MACHINE CLASSIFIER - rbf\n",
      "------------------------------------------------------\n",
      "Accuracy of the model = 0.577\n",
      "------------------------------------------------------\n",
      "Precision for classes B and C: [0.577 0.   ]\n",
      "Recall for classes B and C: [1. 0.]\n",
      "F1-score for classes B and C: [0.732 0.   ]\n",
      "Support for classes B and C: [1482 1085]\n",
      "======================================================\n"
     ]
    },
    {
     "data": {
      "image/png": "[encoded data removed]",
      "text/plain": [
       "<Figure size 432x288 with 2 Axes>"
      ]
     },
     "metadata": {
      "needs_background": "light"
     },
     "output_type": "display_data"
    }
   ],
   "source": [
    "show_model_results(\"SUPPORT VECTOR MACHINE CLASSIFIER - rbf\", y_pred, y_test)"
   ]
  },
  {
   "cell_type": "code",
   "execution_count": 76,
   "metadata": {},
   "outputs": [
    {
     "name": "stdout",
     "output_type": "stream",
     "text": [
      "Cross Validation Score = accuracy mean = 0.5679\n"
     ]
    }
   ],
   "source": [
    "# Checking also accuracy using cross-validation:\n",
    "cvs = cross_val_score(SVC_model2, X, y, scoring= 'accuracy', cv=3).mean()\n",
    "print(\"Cross Validation Score = accuracy mean = {}\".format(round(cvs,4)))"
   ]
  },
  {
   "cell_type": "markdown",
   "metadata": {},
   "source": [
    "Ok, we don't have a good model here. Let's forget it."
   ]
  },
  {
   "cell_type": "markdown",
   "metadata": {},
   "source": [
    "### 3.4 Naive Bayes Classifier"
   ]
  },
  {
   "cell_type": "code",
   "execution_count": 77,
   "metadata": {},
   "outputs": [],
   "source": [
    "NBC = CategoricalNB()"
   ]
  },
  {
   "cell_type": "code",
   "execution_count": 78,
   "metadata": {},
   "outputs": [
    {
     "data": {
      "text/plain": [
       "CategoricalNB(alpha=1.0, class_prior=None, fit_prior=True)"
      ]
     },
     "execution_count": 78,
     "metadata": {},
     "output_type": "execute_result"
    }
   ],
   "source": [
    "NBC.fit(X_train,y_train)"
   ]
  },
  {
   "cell_type": "code",
   "execution_count": 79,
   "metadata": {},
   "outputs": [],
   "source": [
    "y_pred = NBC.predict(X_test)"
   ]
  },
  {
   "cell_type": "code",
   "execution_count": 80,
   "metadata": {},
   "outputs": [
    {
     "name": "stdout",
     "output_type": "stream",
     "text": [
      "y unique values =       ['B' 'C' 'ECO']\n",
      "y_pred unique values =  ['B' 'C']\n"
     ]
    }
   ],
   "source": [
    "print(\"y unique values =      \", np.unique(y))\n",
    "print(\"y_pred unique values = \",np.unique(y_pred))"
   ]
  },
  {
   "cell_type": "code",
   "execution_count": 81,
   "metadata": {},
   "outputs": [
    {
     "name": "stdout",
     "output_type": "stream",
     "text": [
      "***** Results for model = NAIVE BAYES CLASSIFIER\n",
      "------------------------------------------------------\n",
      "Accuracy of the model = 0.972\n",
      "------------------------------------------------------\n",
      "Precision for classes B and C: [0.976 0.966]\n",
      "Recall for classes B and C: [0.975 0.967]\n",
      "F1-score for classes B and C: [0.975 0.966]\n",
      "Support for classes B and C: [1482 1085]\n",
      "======================================================\n"
     ]
    },
    {
     "data": {
      "image/png": "[encoded data removed]",
      "text/plain": [
       "<Figure size 432x288 with 2 Axes>"
      ]
     },
     "metadata": {
      "needs_background": "light"
     },
     "output_type": "display_data"
    }
   ],
   "source": [
    "show_model_results(\"NAIVE BAYES CLASSIFIER\", y_pred, y_test)"
   ]
  },
  {
   "cell_type": "code",
   "execution_count": 82,
   "metadata": {},
   "outputs": [
    {
     "name": "stdout",
     "output_type": "stream",
     "text": [
      "Cross Validation Score = accuracy mean = 0.9658\n"
     ]
    }
   ],
   "source": [
    "# Checking also accuracy using cross-validation:\n",
    "cvs = cross_val_score(NBC, X, y, scoring= 'accuracy', cv=3).mean()\n",
    "print(\"Cross Validation Score = accuracy mean = {}\".format(round(cvs,4)))"
   ]
  },
  {
   "cell_type": "markdown",
   "metadata": {},
   "source": [
    "## <a name=\"section4\"> 4. Model Selection </a>"
   ]
  },
  {
   "cell_type": "markdown",
   "metadata": {},
   "source": [
    "Ok. Let's make a summary of the scores we have up to now. \n",
    "\n",
    "For the first observations where we didn't need a model to predict (7085 rows, 45.3% of total), we had a 100% accuracy.\n",
    "For the other 8555 observations (54.7% of total), we did apply several cassification algorithms. For quick math, let's take the cross-validation accuracy score (mean) for each model.\n",
    "\n",
    "Making a quick weighted average, we have the following cross-validation accuracy scores:\n"
   ]
  },
  {
   "cell_type": "code",
   "execution_count": 83,
   "metadata": {},
   "outputs": [],
   "source": [
    "summary = pd.DataFrame({\"model\": [\"Random Forest\",\"Decision Tree\",\"Support Vector Machines\", \"Naive Bayes\"],\n",
    "                       \"Cross_val_score\":[0.9695,0.9696,0.9643,0.9658]})"
   ]
  },
  {
   "cell_type": "code",
   "execution_count": 84,
   "metadata": {},
   "outputs": [
    {
     "data": {
      "text/html": [
       "<div>\n",
       "<style scoped>\n",
       "    .dataframe tbody tr th:only-of-type {\n",
       "        vertical-align: middle;\n",
       "    }\n",
       "\n",
       "    .dataframe tbody tr th {\n",
       "        vertical-align: top;\n",
       "    }\n",
       "\n",
       "    .dataframe thead th {\n",
       "        text-align: right;\n",
       "    }\n",
       "</style>\n",
       "<table border=\"1\" class=\"dataframe\">\n",
       "  <thead>\n",
       "    <tr style=\"text-align: right;\">\n",
       "      <th></th>\n",
       "      <th>model</th>\n",
       "      <th>Cross_val_score</th>\n",
       "    </tr>\n",
       "  </thead>\n",
       "  <tbody>\n",
       "    <tr>\n",
       "      <th>0</th>\n",
       "      <td>Random Forest</td>\n",
       "      <td>0.9695</td>\n",
       "    </tr>\n",
       "    <tr>\n",
       "      <th>1</th>\n",
       "      <td>Decision Tree</td>\n",
       "      <td>0.9696</td>\n",
       "    </tr>\n",
       "    <tr>\n",
       "      <th>2</th>\n",
       "      <td>Support Vector Machines</td>\n",
       "      <td>0.9643</td>\n",
       "    </tr>\n",
       "    <tr>\n",
       "      <th>3</th>\n",
       "      <td>Naive Bayes</td>\n",
       "      <td>0.9658</td>\n",
       "    </tr>\n",
       "  </tbody>\n",
       "</table>\n",
       "</div>"
      ],
      "text/plain": [
       "                     model  Cross_val_score\n",
       "0            Random Forest           0.9695\n",
       "1            Decision Tree           0.9696\n",
       "2  Support Vector Machines           0.9643\n",
       "3              Naive Bayes           0.9658"
      ]
     },
     "execution_count": 84,
     "metadata": {},
     "output_type": "execute_result"
    }
   ],
   "source": [
    "summary"
   ]
  },
  {
   "cell_type": "code",
   "execution_count": 85,
   "metadata": {},
   "outputs": [],
   "source": [
    "summary['Total_score'] = summary['Cross_val_score']*.547 +(1*.453)"
   ]
  },
  {
   "cell_type": "code",
   "execution_count": 86,
   "metadata": {},
   "outputs": [
    {
     "data": {
      "text/html": [
       "<div>\n",
       "<style scoped>\n",
       "    .dataframe tbody tr th:only-of-type {\n",
       "        vertical-align: middle;\n",
       "    }\n",
       "\n",
       "    .dataframe tbody tr th {\n",
       "        vertical-align: top;\n",
       "    }\n",
       "\n",
       "    .dataframe thead th {\n",
       "        text-align: right;\n",
       "    }\n",
       "</style>\n",
       "<table border=\"1\" class=\"dataframe\">\n",
       "  <thead>\n",
       "    <tr style=\"text-align: right;\">\n",
       "      <th></th>\n",
       "      <th>model</th>\n",
       "      <th>Cross_val_score</th>\n",
       "      <th>Total_score</th>\n",
       "    </tr>\n",
       "  </thead>\n",
       "  <tbody>\n",
       "    <tr>\n",
       "      <th>0</th>\n",
       "      <td>Random Forest</td>\n",
       "      <td>0.9695</td>\n",
       "      <td>0.983317</td>\n",
       "    </tr>\n",
       "    <tr>\n",
       "      <th>1</th>\n",
       "      <td>Decision Tree</td>\n",
       "      <td>0.9696</td>\n",
       "      <td>0.983371</td>\n",
       "    </tr>\n",
       "    <tr>\n",
       "      <th>2</th>\n",
       "      <td>Support Vector Machines</td>\n",
       "      <td>0.9643</td>\n",
       "      <td>0.980472</td>\n",
       "    </tr>\n",
       "    <tr>\n",
       "      <th>3</th>\n",
       "      <td>Naive Bayes</td>\n",
       "      <td>0.9658</td>\n",
       "      <td>0.981293</td>\n",
       "    </tr>\n",
       "  </tbody>\n",
       "</table>\n",
       "</div>"
      ],
      "text/plain": [
       "                     model  Cross_val_score  Total_score\n",
       "0            Random Forest           0.9695     0.983317\n",
       "1            Decision Tree           0.9696     0.983371\n",
       "2  Support Vector Machines           0.9643     0.980472\n",
       "3              Naive Bayes           0.9658     0.981293"
      ]
     },
     "execution_count": 86,
     "metadata": {},
     "output_type": "execute_result"
    }
   ],
   "source": [
    "summary"
   ]
  },
  {
   "cell_type": "markdown",
   "metadata": {},
   "source": [
    "### Chosen model: *Decision Tree Classifier* \n",
    "All these models here shown look good, but we will choose this because it has a higher score and would probably use less memory and time. For future work, we can check model resources consumption to decide."
   ]
  },
  {
   "cell_type": "markdown",
   "metadata": {},
   "source": [
    "________________"
   ]
  },
  {
   "cell_type": "markdown",
   "metadata": {},
   "source": [
    "#### What results might we get using Decision Tree algorithm using all 15.640 original observations with all Fuel type available, without doing the two-step approach aforementioned?"
   ]
  },
  {
   "cell_type": "code",
   "execution_count": 87,
   "metadata": {},
   "outputs": [
    {
     "data": {
      "text/html": [
       "<div>\n",
       "<style scoped>\n",
       "    .dataframe tbody tr th:only-of-type {\n",
       "        vertical-align: middle;\n",
       "    }\n",
       "\n",
       "    .dataframe tbody tr th {\n",
       "        vertical-align: top;\n",
       "    }\n",
       "\n",
       "    .dataframe thead th {\n",
       "        text-align: right;\n",
       "    }\n",
       "</style>\n",
       "<table border=\"1\" class=\"dataframe\">\n",
       "  <thead>\n",
       "    <tr style=\"text-align: right;\">\n",
       "      <th></th>\n",
       "      <th>Codigo</th>\n",
       "      <th>Matricula</th>\n",
       "      <th>Fecha Matriculacion</th>\n",
       "      <th>Marca</th>\n",
       "      <th>Modelo</th>\n",
       "      <th>Tipo</th>\n",
       "      <th>Variante</th>\n",
       "      <th>Clasificacion medioambiental</th>\n",
       "      <th>Combustible</th>\n",
       "      <th>Cilindrada</th>\n",
       "      <th>Potencia</th>\n",
       "      <th>Numero de Plazas</th>\n",
       "      <th>Fecha inicio de prestacion del servicio de taxi</th>\n",
       "      <th>Eurotaxi</th>\n",
       "      <th>Regimen Especial de Eurotaxi</th>\n",
       "      <th>Fecha inicio Regimen Especial Eurotaxi</th>\n",
       "      <th>Fecha fin Regimen Especial Eurotaxi</th>\n",
       "      <th>Fecha</th>\n",
       "      <th>Ano_Matriculacion</th>\n",
       "    </tr>\n",
       "  </thead>\n",
       "  <tbody>\n",
       "    <tr>\n",
       "      <th>31278</th>\n",
       "      <td>1198109</td>\n",
       "      <td>0800GZC</td>\n",
       "      <td>2010-10-18</td>\n",
       "      <td>CHEVROLET</td>\n",
       "      <td>EPICA</td>\n",
       "      <td>KLAL</td>\n",
       "      <td>LV3/134</td>\n",
       "      <td>B</td>\n",
       "      <td>DIESEL</td>\n",
       "      <td>1991</td>\n",
       "      <td>110.0</td>\n",
       "      <td>5</td>\n",
       "      <td>2010-10-25</td>\n",
       "      <td>NO</td>\n",
       "      <td>NO</td>\n",
       "      <td>NaT</td>\n",
       "      <td>NaT</td>\n",
       "      <td>2018-09-29</td>\n",
       "      <td>2010</td>\n",
       "    </tr>\n",
       "    <tr>\n",
       "      <th>31279</th>\n",
       "      <td>1196804</td>\n",
       "      <td>7686GYS</td>\n",
       "      <td>2010-09-23</td>\n",
       "      <td>CHEVROLET</td>\n",
       "      <td>EPICA</td>\n",
       "      <td>KLAL</td>\n",
       "      <td>LV1/111</td>\n",
       "      <td>C</td>\n",
       "      <td>GASOLINA TRANSFORMADO GLP</td>\n",
       "      <td>1993</td>\n",
       "      <td>105.0</td>\n",
       "      <td>5</td>\n",
       "      <td>2010-04-10</td>\n",
       "      <td>NO</td>\n",
       "      <td>NO</td>\n",
       "      <td>NaT</td>\n",
       "      <td>NaT</td>\n",
       "      <td>2018-09-29</td>\n",
       "      <td>2010</td>\n",
       "    </tr>\n",
       "    <tr>\n",
       "      <th>31280</th>\n",
       "      <td>1182347</td>\n",
       "      <td>5440GTD</td>\n",
       "      <td>2010-02-02</td>\n",
       "      <td>CHEVROLET</td>\n",
       "      <td>EPICA</td>\n",
       "      <td>KLAL</td>\n",
       "      <td>LV3/134</td>\n",
       "      <td>B</td>\n",
       "      <td>DIESEL</td>\n",
       "      <td>1991</td>\n",
       "      <td>110.0</td>\n",
       "      <td>5</td>\n",
       "      <td>2010-04-02</td>\n",
       "      <td>NO</td>\n",
       "      <td>NO</td>\n",
       "      <td>NaT</td>\n",
       "      <td>NaT</td>\n",
       "      <td>2018-09-29</td>\n",
       "      <td>2010</td>\n",
       "    </tr>\n",
       "    <tr>\n",
       "      <th>31281</th>\n",
       "      <td>1189908</td>\n",
       "      <td>3259GWN</td>\n",
       "      <td>2010-05-21</td>\n",
       "      <td>CHEVROLET</td>\n",
       "      <td>EPICA</td>\n",
       "      <td>KLAL</td>\n",
       "      <td>LV3/134</td>\n",
       "      <td>B</td>\n",
       "      <td>DIESEL</td>\n",
       "      <td>1991</td>\n",
       "      <td>110.0</td>\n",
       "      <td>5</td>\n",
       "      <td>2010-05-24</td>\n",
       "      <td>NO</td>\n",
       "      <td>NO</td>\n",
       "      <td>NaT</td>\n",
       "      <td>NaT</td>\n",
       "      <td>2018-09-29</td>\n",
       "      <td>2010</td>\n",
       "    </tr>\n",
       "    <tr>\n",
       "      <th>31282</th>\n",
       "      <td>1194793</td>\n",
       "      <td>2463GYJ</td>\n",
       "      <td>2010-08-18</td>\n",
       "      <td>CHEVROLET</td>\n",
       "      <td>EPICA</td>\n",
       "      <td>KLAL</td>\n",
       "      <td>LV3/134</td>\n",
       "      <td>B</td>\n",
       "      <td>DIESEL</td>\n",
       "      <td>1991</td>\n",
       "      <td>110.0</td>\n",
       "      <td>5</td>\n",
       "      <td>2010-08-19</td>\n",
       "      <td>NO</td>\n",
       "      <td>NO</td>\n",
       "      <td>NaT</td>\n",
       "      <td>NaT</td>\n",
       "      <td>2018-09-29</td>\n",
       "      <td>2010</td>\n",
       "    </tr>\n",
       "  </tbody>\n",
       "</table>\n",
       "</div>"
      ],
      "text/plain": [
       "        Codigo Matricula Fecha Matriculacion      Marca Modelo  Tipo Variante  \\\n",
       "31278  1198109   0800GZC          2010-10-18  CHEVROLET  EPICA  KLAL  LV3/134   \n",
       "31279  1196804   7686GYS          2010-09-23  CHEVROLET  EPICA  KLAL  LV1/111   \n",
       "31280  1182347   5440GTD          2010-02-02  CHEVROLET  EPICA  KLAL  LV3/134   \n",
       "31281  1189908   3259GWN          2010-05-21  CHEVROLET  EPICA  KLAL  LV3/134   \n",
       "31282  1194793   2463GYJ          2010-08-18  CHEVROLET  EPICA  KLAL  LV3/134   \n",
       "\n",
       "      Clasificacion medioambiental                Combustible  Cilindrada  \\\n",
       "31278                            B                     DIESEL        1991   \n",
       "31279                            C  GASOLINA TRANSFORMADO GLP        1993   \n",
       "31280                            B                     DIESEL        1991   \n",
       "31281                            B                     DIESEL        1991   \n",
       "31282                            B                     DIESEL        1991   \n",
       "\n",
       "       Potencia Numero de Plazas  \\\n",
       "31278     110.0                5   \n",
       "31279     105.0                5   \n",
       "31280     110.0                5   \n",
       "31281     110.0                5   \n",
       "31282     110.0                5   \n",
       "\n",
       "      Fecha inicio de prestacion del servicio de taxi Eurotaxi  \\\n",
       "31278                                      2010-10-25       NO   \n",
       "31279                                      2010-04-10       NO   \n",
       "31280                                      2010-04-02       NO   \n",
       "31281                                      2010-05-24       NO   \n",
       "31282                                      2010-08-19       NO   \n",
       "\n",
       "      Regimen Especial de Eurotaxi Fecha inicio Regimen Especial Eurotaxi  \\\n",
       "31278                           NO                                    NaT   \n",
       "31279                           NO                                    NaT   \n",
       "31280                           NO                                    NaT   \n",
       "31281                           NO                                    NaT   \n",
       "31282                           NO                                    NaT   \n",
       "\n",
       "      Fecha fin Regimen Especial Eurotaxi      Fecha  Ano_Matriculacion  \n",
       "31278                                 NaT 2018-09-29               2010  \n",
       "31279                                 NaT 2018-09-29               2010  \n",
       "31280                                 NaT 2018-09-29               2010  \n",
       "31281                                 NaT 2018-09-29               2010  \n",
       "31282                                 NaT 2018-09-29               2010  "
      ]
     },
     "execution_count": 87,
     "metadata": {},
     "output_type": "execute_result"
    }
   ],
   "source": [
    "df_new.head()"
   ]
  },
  {
   "cell_type": "code",
   "execution_count": 88,
   "metadata": {},
   "outputs": [
    {
     "data": {
      "text/plain": [
       "(15640, 19)"
      ]
     },
     "execution_count": 88,
     "metadata": {},
     "output_type": "execute_result"
    }
   ],
   "source": [
    "df_new.shape"
   ]
  },
  {
   "cell_type": "code",
   "execution_count": 89,
   "metadata": {},
   "outputs": [],
   "source": [
    "combust_dummy = pd.get_dummies(df_new['Combustible'], prefix=\"Combustible\")\n",
    "df_new = pd.concat([df_new,combust_dummy], axis=1)"
   ]
  },
  {
   "cell_type": "code",
   "execution_count": 90,
   "metadata": {},
   "outputs": [
    {
     "data": {
      "text/plain": [
       "Index(['Codigo', 'Matricula', 'Fecha Matriculacion', 'Marca', 'Modelo', 'Tipo',\n",
       "       'Variante', 'Clasificacion medioambiental', 'Combustible', 'Cilindrada',\n",
       "       'Potencia', 'Numero de Plazas',\n",
       "       'Fecha inicio de prestacion del servicio de taxi', 'Eurotaxi',\n",
       "       'Regimen Especial de Eurotaxi',\n",
       "       'Fecha inicio Regimen Especial Eurotaxi',\n",
       "       'Fecha fin Regimen Especial Eurotaxi', 'Fecha', 'Ano_Matriculacion',\n",
       "       'Combustible_DIESEL', 'Combustible_ELECTRICO', 'Combustible_GASOLINA',\n",
       "       'Combustible_GASOLINA - GAS NATURAL',\n",
       "       'Combustible_GASOLINA TRANSFORMADO GLP',\n",
       "       'Combustible_GASOLINA-ELECTRICIDAD', 'Combustible_GLP / GASOLINA'],\n",
       "      dtype='object')"
      ]
     },
     "execution_count": 90,
     "metadata": {},
     "output_type": "execute_result"
    }
   ],
   "source": [
    "df_new.columns"
   ]
  },
  {
   "cell_type": "code",
   "execution_count": 91,
   "metadata": {},
   "outputs": [],
   "source": [
    "# defining features and target for later modelling\n",
    "features2 = [ 'Combustible_DIESEL', 'Combustible_ELECTRICO', 'Combustible_GASOLINA',\n",
    "       'Combustible_GASOLINA - GAS NATURAL',\n",
    "       'Combustible_GASOLINA TRANSFORMADO GLP',\n",
    "       'Combustible_GASOLINA-ELECTRICIDAD', 'Combustible_GLP / GASOLINA', 'Ano_Matriculacion']\n",
    "target2 = ['Clasificacion medioambiental']"
   ]
  },
  {
   "cell_type": "code",
   "execution_count": 92,
   "metadata": {},
   "outputs": [],
   "source": [
    "X2 = df_new[features2]\n",
    "y2 = df_new[target2]"
   ]
  },
  {
   "cell_type": "code",
   "execution_count": 93,
   "metadata": {},
   "outputs": [
    {
     "data": {
      "text/plain": [
       "array(['0', 'B', 'C', 'ECO'], dtype=object)"
      ]
     },
     "execution_count": 93,
     "metadata": {},
     "output_type": "execute_result"
    }
   ],
   "source": [
    "np.unique(y2)"
   ]
  },
  {
   "cell_type": "code",
   "execution_count": 94,
   "metadata": {},
   "outputs": [
    {
     "data": {
      "text/plain": [
       "(15640, 8)"
      ]
     },
     "execution_count": 94,
     "metadata": {},
     "output_type": "execute_result"
    }
   ],
   "source": [
    "X2.shape"
   ]
  },
  {
   "cell_type": "code",
   "execution_count": 95,
   "metadata": {},
   "outputs": [
    {
     "data": {
      "text/plain": [
       "(15640, 1)"
      ]
     },
     "execution_count": 95,
     "metadata": {},
     "output_type": "execute_result"
    }
   ],
   "source": [
    "y2.shape"
   ]
  },
  {
   "cell_type": "code",
   "execution_count": 96,
   "metadata": {},
   "outputs": [],
   "source": [
    "# Applying train/test split\n",
    "X_train2, X_test2, y_train2, y_test2 = train_test_split(X2, y2, test_size=0.3, random_state=123)"
   ]
  },
  {
   "cell_type": "code",
   "execution_count": 97,
   "metadata": {},
   "outputs": [],
   "source": [
    "DTC2 = DecisionTreeClassifier(random_state=123)"
   ]
  },
  {
   "cell_type": "code",
   "execution_count": 98,
   "metadata": {
    "scrolled": true
   },
   "outputs": [
    {
     "data": {
      "text/plain": [
       "DecisionTreeClassifier(ccp_alpha=0.0, class_weight=None, criterion='gini',\n",
       "                       max_depth=None, max_features=None, max_leaf_nodes=None,\n",
       "                       min_impurity_decrease=0.0, min_impurity_split=None,\n",
       "                       min_samples_leaf=1, min_samples_split=2,\n",
       "                       min_weight_fraction_leaf=0.0, presort='deprecated',\n",
       "                       random_state=123, splitter='best')"
      ]
     },
     "execution_count": 98,
     "metadata": {},
     "output_type": "execute_result"
    }
   ],
   "source": [
    "DTC2.fit(X_train2,y_train2)"
   ]
  },
  {
   "cell_type": "code",
   "execution_count": 99,
   "metadata": {},
   "outputs": [],
   "source": [
    "y_pred2 = DTC2.predict(X_test2)"
   ]
  },
  {
   "cell_type": "code",
   "execution_count": 100,
   "metadata": {},
   "outputs": [
    {
     "name": "stdout",
     "output_type": "stream",
     "text": [
      "y unique values =       ['0' 'B' 'C' 'ECO']\n",
      "y_pred unique values =  ['0' 'B' 'C' 'ECO']\n"
     ]
    }
   ],
   "source": [
    "print(\"y unique values =      \", np.unique(y2))\n",
    "print(\"y_pred unique values = \",np.unique(y_pred2))"
   ]
  },
  {
   "cell_type": "code",
   "execution_count": 101,
   "metadata": {
    "scrolled": true
   },
   "outputs": [
    {
     "name": "stdout",
     "output_type": "stream",
     "text": [
      "***** Results for model = Decision Tree\n",
      "------------------------------------------------------\n",
      "Accuracy of the model = 0.984\n",
      "------------------------------------------------------\n",
      "Precision for classes B and C: [1.    0.974 0.966 1.   ]\n",
      "Recall for classes B and C: [1.    0.973 0.967 1.   ]\n",
      "F1-score for classes B and C: [1.    0.974 0.966 1.   ]\n",
      "Support for classes B and C: [   7 1443 1131 2111]\n",
      "======================================================\n"
     ]
    },
    {
     "data": {
      "image/png": "[encoded data removed]",
      "text/plain": [
       "<Figure size 432x288 with 2 Axes>"
      ]
     },
     "metadata": {
      "needs_background": "light"
     },
     "output_type": "display_data"
    }
   ],
   "source": [
    "print(\"***** Results for model = {}\".format('Decision Tree'))\n",
    "print(\"------------------------------------------------------\")\n",
    "\n",
    "#plot Confusion matrix \n",
    "cf_matrix2 = confusion_matrix(y_pred2, y_test2)\n",
    "ax= plt.subplot()\n",
    "sns.heatmap(cf_matrix2, annot=True, cmap='mako_r',ax = ax, fmt='g'); #annot=True to annotate cells\n",
    "\n",
    "# labels, title and ticks\n",
    "ax.set_xlabel('Predicted labels');ax.set_ylabel('True labels'); \n",
    "ax.set_title('Confusion Matrix'); \n",
    "ax.xaxis.set_ticklabels(['0', 'B', 'C','ECO']); ax.yaxis.set_ticklabels(['0', 'B', 'C','ECO']);\n",
    "\n",
    "    \n",
    "accuracy2 = accuracy_score(y_test2, y_pred2)  # (TP + TN) / (TP+TN+FP+FN)\n",
    "print(\"Accuracy of the model = {}\".format(round(accuracy2,3)))\n",
    "print(\"------------------------------------------------------\")\n",
    "\n",
    "# Checking accuracy, precision and recall. \n",
    "#TP= True Positive, FP= False Positive, TN = True Negative, FN = False Negative\n",
    "\n",
    "precision2, recall2, fscore2, support2 = score(y_test2, y_pred2)\n",
    "\n",
    "print('Precision for classes B and C: {}'.format(np.round(precision2,3))) # (TP)/(TP+FP), for each class\n",
    "print('Recall for classes B and C: {}'.format(np.round(recall2,3))) # (TP)/(TP+FN), for each class\n",
    "print('F1-score for classes B and C: {}'.format(np.round(fscore2,3))) #f1 score (harmonic mean of precision and recall = 2* (precision*recall)/(precision+recall))\n",
    "print('Support for classes B and C: {}'.format(np.round(support2,0))) # The support is the number of occurrences of each class in y_true\n",
    "    \n",
    "print(\"======================================================\")"
   ]
  },
  {
   "cell_type": "code",
   "execution_count": 102,
   "metadata": {},
   "outputs": [
    {
     "name": "stdout",
     "output_type": "stream",
     "text": [
      "Cross Validation Score = accuracy mean = 0.9829\n"
     ]
    }
   ],
   "source": [
    "# Checking also accuracy using cross-validation:\n",
    "cvs2 = cross_val_score(DTC2, X2, y2, scoring= 'accuracy', cv=3).mean()\n",
    "print(\"Cross Validation Score = accuracy mean = {}\".format(round(cvs2,4)))"
   ]
  },
  {
   "cell_type": "markdown",
   "metadata": {},
   "source": [
    "We get a slightly lower `cross_val_scrore` compared to the 0.983371 obtained with the previous approach with Decision Tree Classifier."
   ]
  }
 ],
 "metadata": {
  "kernelspec": {
   "display_name": "Python 3",
   "language": "python",
   "name": "python3"
  },
  "language_info": {
   "codemirror_mode": {
    "name": "ipython",
    "version": 3
   },
   "file_extension": ".py",
   "mimetype": "text/x-python",
   "name": "python",
   "nbconvert_exporter": "python",
   "pygments_lexer": "ipython3",
   "version": "3.7.4"
  },
  "varInspector": {
   "cols": {
    "lenName": 16,
    "lenType": 16,
    "lenVar": 40
   },
   "kernels_config": {
    "python": {
     "delete_cmd_postfix": "",
     "delete_cmd_prefix": "del ",
     "library": "var_list.py",
     "varRefreshCmd": "print(var_dic_list())"
    },
    "r": {
     "delete_cmd_postfix": ") ",
     "delete_cmd_prefix": "rm(",
     "library": "var_list.r",
     "varRefreshCmd": "cat(var_dic_list()) "
    }
   },
   "types_to_exclude": [
    "module",
    "function",
    "builtin_function_or_method",
    "instance",
    "_Feature"
   ],
   "window_display": false
  }
 },
 "nbformat": 4,
 "nbformat_minor": 4
}
